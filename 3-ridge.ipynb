{
 "cells": [
  {
   "cell_type": "markdown",
   "metadata": {},
   "source": [
    "# Ridge regression\n",
    "**Important**: Change the kernel to *PROJECT_NAME local*. You can do this from the *Kernel* menu under *Change kernel*."
   ]
  },
  {
   "cell_type": "code",
   "execution_count": 1,
   "metadata": {},
   "outputs": [],
   "source": [
    "%matplotlib inline\n",
    "import pandas as pd\n",
    "import numpy as np\n",
    "import matplotlib.pyplot as plt\n",
    "from sklearn.pipeline import Pipeline\n",
    "from sklearn.preprocessing import OneHotEncoder\n",
    "from sklearn.linear_model import Ridge\n",
    "from sklearn.metrics import mean_squared_error\n",
    "from sklearn.model_selection import TimeSeriesSplit\n",
    "from sklearn.model_selection import RandomizedSearchCV\n",
    "import pickle\n",
    "import os\n",
    "import scipy.stats as st"
   ]
  },
  {
   "cell_type": "code",
   "execution_count": 2,
   "metadata": {},
   "outputs": [],
   "source": [
    "model_name = \"ridge\"\n",
    "aml_dir = os.environ['AZUREML_NATIVE_SHARE_DIRECTORY']\n",
    "train = pd.read_csv(os.path.join(aml_dir, 'nyc_demand_train.csv'), parse_dates=['timeStamp'])"
   ]
  },
  {
   "cell_type": "markdown",
   "metadata": {},
   "source": [
    "Create model pipeline:\n",
    "- **one-hot encode categorical variables**\n",
    "- **randomized parameter search** with cross validation to find optimal values for the alpha parameter\n",
    "\n",
    "Fitting this pipeline should take less than a minute."
   ]
  },
  {
   "cell_type": "code",
   "execution_count": 3,
   "metadata": {},
   "outputs": [],
   "source": [
    "X = train.drop(['demand', 'timeStamp'], axis=1)"
   ]
  },
  {
   "cell_type": "code",
   "execution_count": 4,
   "metadata": {},
   "outputs": [],
   "source": [
    "cat_cols = ['hour', 'month', 'dayofweek']\n",
    "cat_cols_idx = [X.columns.get_loc(c) for c in X.columns if c in cat_cols]\n",
    "onehot = OneHotEncoder(categorical_features=cat_cols_idx, sparse=False)\n",
    "regr = Ridge(fit_intercept=False)\n",
    "tscv = TimeSeriesSplit(n_splits=3)"
   ]
  },
  {
   "cell_type": "code",
   "execution_count": 5,
   "metadata": {},
   "outputs": [
    {
     "name": "stdout",
     "output_type": "stream",
     "text": [
      "Fitting 3 folds for each of 100 candidates, totalling 300 fits\n"
     ]
    },
    {
     "name": "stderr",
     "output_type": "stream",
     "text": [
      "[Parallel(n_jobs=-1)]: Done  33 tasks      | elapsed:    5.4s\n",
      "[Parallel(n_jobs=-1)]: Done 154 tasks      | elapsed:   11.1s\n",
      "[Parallel(n_jobs=-1)]: Done 300 out of 300 | elapsed:   16.2s finished\n"
     ]
    },
    {
     "data": {
      "text/plain": [
       "Pipeline(memory=None,\n",
       "     steps=[('onehot', OneHotEncoder(categorical_features=[2, 3, 4], dtype=<class 'numpy.float64'>,\n",
       "       handle_unknown='error', n_values='auto', sparse=False)), ('regr_cv', RandomizedSearchCV(cv=TimeSeriesSplit(max_train_size=None, n_splits=3),\n",
       "          error_score='raise',\n",
       "          estimator=Ridge(...it=True,\n",
       "          return_train_score=True, scoring='neg_mean_squared_error',\n",
       "          verbose=2))])"
      ]
     },
     "execution_count": 5,
     "metadata": {},
     "output_type": "execute_result"
    }
   ],
   "source": [
    "param_dist = {'alpha': st.uniform(1e-4, 10.0)}\n",
    "regr_cv = RandomizedSearchCV(estimator=regr,\n",
    "                            param_distributions=param_dist,\n",
    "                            n_iter=100,\n",
    "                            scoring='neg_mean_squared_error',\n",
    "                            iid=False,\n",
    "                            cv=tscv,\n",
    "                            verbose=2,\n",
    "                            n_jobs=-1)\n",
    "regr_pipe = Pipeline([('onehot', onehot), ('regr_cv', regr_cv)])\n",
    "regr_pipe.fit(X, y=train['demand'])"
   ]
  },
  {
   "cell_type": "code",
   "execution_count": 6,
   "metadata": {},
   "outputs": [],
   "source": [
    "with open(os.path.join(aml_dir, model_name + '.pkl'), 'wb') as f:\n",
    "    pickle.dump(regr_pipe, f)"
   ]
  },
  {
   "cell_type": "markdown",
   "metadata": {},
   "source": [
    "Cross validation results"
   ]
  },
  {
   "cell_type": "code",
   "execution_count": 7,
   "metadata": {},
   "outputs": [
    {
     "data": {
      "text/html": [
       "<div>\n",
       "<style>\n",
       "    .dataframe thead tr:only-child th {\n",
       "        text-align: right;\n",
       "    }\n",
       "\n",
       "    .dataframe thead th {\n",
       "        text-align: left;\n",
       "    }\n",
       "\n",
       "    .dataframe tbody tr th {\n",
       "        vertical-align: top;\n",
       "    }\n",
       "</style>\n",
       "<table border=\"1\" class=\"dataframe\">\n",
       "  <thead>\n",
       "    <tr style=\"text-align: right;\">\n",
       "      <th></th>\n",
       "      <th>mean_fit_time</th>\n",
       "      <th>mean_score_time</th>\n",
       "      <th>mean_test_score</th>\n",
       "      <th>mean_train_score</th>\n",
       "      <th>param_alpha</th>\n",
       "      <th>params</th>\n",
       "      <th>rank_test_score</th>\n",
       "      <th>split0_test_score</th>\n",
       "      <th>split0_train_score</th>\n",
       "      <th>split1_test_score</th>\n",
       "      <th>split1_train_score</th>\n",
       "      <th>split2_test_score</th>\n",
       "      <th>split2_train_score</th>\n",
       "      <th>std_fit_time</th>\n",
       "      <th>std_score_time</th>\n",
       "      <th>std_test_score</th>\n",
       "      <th>std_train_score</th>\n",
       "    </tr>\n",
       "  </thead>\n",
       "  <tbody>\n",
       "    <tr>\n",
       "      <th>7</th>\n",
       "      <td>0.062499</td>\n",
       "      <td>0.000000</td>\n",
       "      <td>-3869.631955</td>\n",
       "      <td>-4220.063533</td>\n",
       "      <td>6.3633</td>\n",
       "      <td>{'alpha': 6.36329711533}</td>\n",
       "      <td>1</td>\n",
       "      <td>-4166.834212</td>\n",
       "      <td>-4383.040888</td>\n",
       "      <td>-3678.443996</td>\n",
       "      <td>-4236.905057</td>\n",
       "      <td>-3763.617657</td>\n",
       "      <td>-4040.244653</td>\n",
       "      <td>0.012757</td>\n",
       "      <td>0.000000</td>\n",
       "      <td>213.010992</td>\n",
       "      <td>140.451753</td>\n",
       "    </tr>\n",
       "    <tr>\n",
       "      <th>45</th>\n",
       "      <td>0.075710</td>\n",
       "      <td>0.006542</td>\n",
       "      <td>-3869.634107</td>\n",
       "      <td>-4220.294152</td>\n",
       "      <td>6.52927</td>\n",
       "      <td>{'alpha': 6.52926570367}</td>\n",
       "      <td>2</td>\n",
       "      <td>-4167.099882</td>\n",
       "      <td>-4383.519133</td>\n",
       "      <td>-3678.346225</td>\n",
       "      <td>-4237.048816</td>\n",
       "      <td>-3763.456213</td>\n",
       "      <td>-4040.314508</td>\n",
       "      <td>0.008769</td>\n",
       "      <td>0.006628</td>\n",
       "      <td>213.190593</td>\n",
       "      <td>140.612690</td>\n",
       "    </tr>\n",
       "    <tr>\n",
       "      <th>22</th>\n",
       "      <td>0.070392</td>\n",
       "      <td>0.001333</td>\n",
       "      <td>-3869.634377</td>\n",
       "      <td>-4220.307744</td>\n",
       "      <td>6.53897</td>\n",
       "      <td>{'alpha': 6.53897252438}</td>\n",
       "      <td>3</td>\n",
       "      <td>-4167.115685</td>\n",
       "      <td>-4383.547296</td>\n",
       "      <td>-3678.340604</td>\n",
       "      <td>-4237.057301</td>\n",
       "      <td>-3763.446842</td>\n",
       "      <td>-4040.318634</td>\n",
       "      <td>0.023106</td>\n",
       "      <td>0.001885</td>\n",
       "      <td>213.201180</td>\n",
       "      <td>140.622163</td>\n",
       "    </tr>\n",
       "    <tr>\n",
       "      <th>36</th>\n",
       "      <td>0.068261</td>\n",
       "      <td>0.000000</td>\n",
       "      <td>-3869.635068</td>\n",
       "      <td>-4220.339395</td>\n",
       "      <td>6.56155</td>\n",
       "      <td>{'alpha': 6.56154564971}</td>\n",
       "      <td>4</td>\n",
       "      <td>-4167.152548</td>\n",
       "      <td>-4383.612870</td>\n",
       "      <td>-3678.327574</td>\n",
       "      <td>-4237.077065</td>\n",
       "      <td>-3763.425081</td>\n",
       "      <td>-4040.328249</td>\n",
       "      <td>0.020225</td>\n",
       "      <td>0.000000</td>\n",
       "      <td>213.225834</td>\n",
       "      <td>140.644220</td>\n",
       "    </tr>\n",
       "    <tr>\n",
       "      <th>33</th>\n",
       "      <td>0.062497</td>\n",
       "      <td>0.000000</td>\n",
       "      <td>-3869.635342</td>\n",
       "      <td>-4219.802714</td>\n",
       "      <td>6.17258</td>\n",
       "      <td>{'alpha': 6.17258190792}</td>\n",
       "      <td>5</td>\n",
       "      <td>-4166.539706</td>\n",
       "      <td>-4382.499137</td>\n",
       "      <td>-3678.560270</td>\n",
       "      <td>-4236.742963</td>\n",
       "      <td>-3763.806051</td>\n",
       "      <td>-4040.166042</td>\n",
       "      <td>0.012756</td>\n",
       "      <td>0.000000</td>\n",
       "      <td>212.807991</td>\n",
       "      <td>140.269303</td>\n",
       "    </tr>\n",
       "  </tbody>\n",
       "</table>\n",
       "</div>"
      ],
      "text/plain": [
       "    mean_fit_time  mean_score_time  mean_test_score  mean_train_score  \\\n",
       "7        0.062499         0.000000     -3869.631955      -4220.063533   \n",
       "45       0.075710         0.006542     -3869.634107      -4220.294152   \n",
       "22       0.070392         0.001333     -3869.634377      -4220.307744   \n",
       "36       0.068261         0.000000     -3869.635068      -4220.339395   \n",
       "33       0.062497         0.000000     -3869.635342      -4219.802714   \n",
       "\n",
       "   param_alpha                    params  rank_test_score  split0_test_score  \\\n",
       "7       6.3633  {'alpha': 6.36329711533}                1       -4166.834212   \n",
       "45     6.52927  {'alpha': 6.52926570367}                2       -4167.099882   \n",
       "22     6.53897  {'alpha': 6.53897252438}                3       -4167.115685   \n",
       "36     6.56155  {'alpha': 6.56154564971}                4       -4167.152548   \n",
       "33     6.17258  {'alpha': 6.17258190792}                5       -4166.539706   \n",
       "\n",
       "    split0_train_score  split1_test_score  split1_train_score  \\\n",
       "7         -4383.040888       -3678.443996        -4236.905057   \n",
       "45        -4383.519133       -3678.346225        -4237.048816   \n",
       "22        -4383.547296       -3678.340604        -4237.057301   \n",
       "36        -4383.612870       -3678.327574        -4237.077065   \n",
       "33        -4382.499137       -3678.560270        -4236.742963   \n",
       "\n",
       "    split2_test_score  split2_train_score  std_fit_time  std_score_time  \\\n",
       "7        -3763.617657        -4040.244653      0.012757        0.000000   \n",
       "45       -3763.456213        -4040.314508      0.008769        0.006628   \n",
       "22       -3763.446842        -4040.318634      0.023106        0.001885   \n",
       "36       -3763.425081        -4040.328249      0.020225        0.000000   \n",
       "33       -3763.806051        -4040.166042      0.012756        0.000000   \n",
       "\n",
       "    std_test_score  std_train_score  \n",
       "7       213.010992       140.451753  \n",
       "45      213.190593       140.612690  \n",
       "22      213.201180       140.622163  \n",
       "36      213.225834       140.644220  \n",
       "33      212.807991       140.269303  "
      ]
     },
     "execution_count": 7,
     "metadata": {},
     "output_type": "execute_result"
    }
   ],
   "source": [
    "cv_results = pd.DataFrame(regr_pipe.named_steps['regr_cv'].cv_results_)\n",
    "cv_results.sort_values(by='rank_test_score').head()"
   ]
  },
  {
   "cell_type": "code",
   "execution_count": 8,
   "metadata": {},
   "outputs": [
    {
     "data": {
      "image/png": "[encoded data removed]",
      "text/plain": [
       "<matplotlib.figure.Figure at 0x1dc64f97dd8>"
      ]
     },
     "metadata": {},
     "output_type": "display_data"
    }
   ],
   "source": [
    "plt.plot(cv_results['param_alpha'], cv_results['mean_test_score'], 'ro', markersize=1)\n",
    "plt.title('CV negative mean squared error')\n",
    "plt.show()"
   ]
  }
 ],
 "metadata": {
  "kernelspec": {
   "display_name": "TimeSeriesForecastingTutorial local",
   "language": "python",
   "name": "timeseriesforecastingtutorial_local"
  },
  "language_info": {
   "codemirror_mode": {
    "name": "ipython",
    "version": 3
   },
   "file_extension": ".py",
   "mimetype": "text/x-python",
   "name": "python",
   "nbconvert_exporter": "python",
   "pygments_lexer": "ipython3",
   "version": "3.5.2"
  }
 },
 "nbformat": 4,
 "nbformat_minor": 2
}

{
 "cells": [
  {
   "cell_type": "markdown",
   "metadata": {},
   "source": [
    "# Ridge regression\n",
    "**Important**: Change the kernel to *PROJECT_NAME local*. You can do this from the *Kernel* menu under *Change kernel*."
   ]
  },
  {
   "cell_type": "code",
   "execution_count": 28,
   "metadata": {},
   "outputs": [],
   "source": [
    "%matplotlib inline\n",
    "import pandas as pd\n",
    "import numpy as np\n",
    "import matplotlib.pyplot as plt\n",
    "from sklearn.pipeline import Pipeline\n",
    "from sklearn.preprocessing import OneHotEncoder\n",
    "from sklearn.linear_model import Ridge\n",
    "from sklearn.metrics import mean_squared_error\n",
    "from sklearn.model_selection import TimeSeriesSplit\n",
    "from sklearn.model_selection import RandomizedSearchCV\n",
    "import pickle\n",
    "import os\n",
    "import scipy.stats as st"
   ]
  },
  {
   "cell_type": "code",
   "execution_count": 2,
   "metadata": {},
   "outputs": [],
   "source": [
    "model_name = \"ridge\"\n",
    "aml_dir = os.environ['AZUREML_NATIVE_SHARE_DIRECTORY']\n",
    "train = pd.read_csv(os.path.join(aml_dir, 'nyc_demand_train.csv'), parse_dates=['timeStamp'])"
   ]
  },
  {
   "cell_type": "markdown",
   "metadata": {},
   "source": [
    "Create model pipeline:\n",
    "- **one-hot encode categorical variables**\n",
    "- **randomized parameter search** with cross validation to find optimal values for the alpha parameter\n",
    "\n",
    "Fitting this pipeline should take less than a minute."
   ]
  },
  {
   "cell_type": "code",
   "execution_count": 3,
   "metadata": {},
   "outputs": [],
   "source": [
    "X = train.drop(['demand', 'timeStamp'], axis=1)"
   ]
  },
  {
   "cell_type": "code",
   "execution_count": 4,
   "metadata": {},
   "outputs": [],
   "source": [
    "cat_cols = ['hour', 'month', 'dayofweek']\n",
    "cat_cols_idx = [X.columns.get_loc(c) for c in X.columns if c in cat_cols]\n",
    "onehot = OneHotEncoder(categorical_features=cat_cols_idx, sparse=False)\n",
    "regr = Ridge(fit_intercept=False)\n",
    "tscv = TimeSeriesSplit(n_splits=3)"
   ]
  },
  {
   "cell_type": "code",
   "execution_count": 44,
   "metadata": {},
   "outputs": [
    {
     "name": "stdout",
     "output_type": "stream",
     "text": [
      "Fitting 3 folds for each of 100 candidates, totalling 300 fits\n"
     ]
    },
    {
     "name": "stderr",
     "output_type": "stream",
     "text": [
      "[Parallel(n_jobs=-1)]: Done  33 tasks      | elapsed:    6.4s\n",
      "[Parallel(n_jobs=-1)]: Done 154 tasks      | elapsed:   12.4s\n",
      "[Parallel(n_jobs=-1)]: Done 300 out of 300 | elapsed:   19.6s finished\n"
     ]
    },
    {
     "data": {
      "text/plain": [
       "Pipeline(memory=None,\n",
       "     steps=[('onehot', OneHotEncoder(categorical_features=[2, 3, 4], dtype=<class 'numpy.float64'>,\n",
       "       handle_unknown='error', n_values='auto', sparse=False)), ('regr_cv', RandomizedSearchCV(cv=TimeSeriesSplit(max_train_size=None, n_splits=3),\n",
       "          error_score='raise',\n",
       "          estimator=Ridge(...it=True,\n",
       "          return_train_score=True, scoring='neg_mean_squared_error',\n",
       "          verbose=2))])"
      ]
     },
     "execution_count": 44,
     "metadata": {},
     "output_type": "execute_result"
    }
   ],
   "source": [
    "param_dist = {'alpha': st.uniform(1e-4, 10.0)}\n",
    "regr_cv = RandomizedSearchCV(estimator=regr,\n",
    "                            param_distributions=param_dist,\n",
    "                            n_iter=100,\n",
    "                            scoring='neg_mean_squared_error',\n",
    "                            iid=False,\n",
    "                            cv=tscv,\n",
    "                            verbose=2,\n",
    "                            n_jobs=-1)\n",
    "regr_pipe = Pipeline([('onehot', onehot), ('regr_cv', regr_cv)])\n",
    "regr_pipe.fit(X, y=train['demand'])"
   ]
  },
  {
   "cell_type": "code",
   "execution_count": null,
   "metadata": {},
   "outputs": [],
   "source": [
    "with open(os.path.join(aml_dir, model_name + '.pkl'), 'wb') as f:\n",
    "    pickle.dump(regr_pipe, f)"
   ]
  },
  {
   "cell_type": "markdown",
   "metadata": {},
   "source": [
    "Cross validation results"
   ]
  },
  {
   "cell_type": "code",
   "execution_count": 49,
   "metadata": {},
   "outputs": [
    {
     "data": {
      "text/html": [
       "<div>\n",
       "<style>\n",
       "    .dataframe thead tr:only-child th {\n",
       "        text-align: right;\n",
       "    }\n",
       "\n",
       "    .dataframe thead th {\n",
       "        text-align: left;\n",
       "    }\n",
       "\n",
       "    .dataframe tbody tr th {\n",
       "        vertical-align: top;\n",
       "    }\n",
       "</style>\n",
       "<table border=\"1\" class=\"dataframe\">\n",
       "  <thead>\n",
       "    <tr style=\"text-align: right;\">\n",
       "      <th></th>\n",
       "      <th>mean_fit_time</th>\n",
       "      <th>mean_score_time</th>\n",
       "      <th>mean_test_score</th>\n",
       "      <th>mean_train_score</th>\n",
       "      <th>param_alpha</th>\n",
       "      <th>params</th>\n",
       "      <th>rank_test_score</th>\n",
       "      <th>split0_test_score</th>\n",
       "      <th>split0_train_score</th>\n",
       "      <th>split1_test_score</th>\n",
       "      <th>split1_train_score</th>\n",
       "      <th>split2_test_score</th>\n",
       "      <th>split2_train_score</th>\n",
       "      <th>std_fit_time</th>\n",
       "      <th>std_score_time</th>\n",
       "      <th>std_test_score</th>\n",
       "      <th>std_train_score</th>\n",
       "    </tr>\n",
       "  </thead>\n",
       "  <tbody>\n",
       "    <tr>\n",
       "      <th>90</th>\n",
       "      <td>0.112170</td>\n",
       "      <td>0.005502</td>\n",
       "      <td>-3869.631983</td>\n",
       "      <td>-4220.100380</td>\n",
       "      <td>6.38998</td>\n",
       "      <td>{'alpha': 6.38997841215}</td>\n",
       "      <td>1</td>\n",
       "      <td>-4166.876339</td>\n",
       "      <td>-4383.117349</td>\n",
       "      <td>-3678.428065</td>\n",
       "      <td>-4236.928000</td>\n",
       "      <td>-3763.591547</td>\n",
       "      <td>-4040.255792</td>\n",
       "      <td>0.027600</td>\n",
       "      <td>0.002830</td>\n",
       "      <td>213.039683</td>\n",
       "      <td>140.477491</td>\n",
       "    </tr>\n",
       "    <tr>\n",
       "      <th>89</th>\n",
       "      <td>0.117835</td>\n",
       "      <td>0.005834</td>\n",
       "      <td>-3869.631995</td>\n",
       "      <td>-4220.042027</td>\n",
       "      <td>6.3477</td>\n",
       "      <td>{'alpha': 6.34769564653}</td>\n",
       "      <td>2</td>\n",
       "      <td>-4166.809683</td>\n",
       "      <td>-4382.996255</td>\n",
       "      <td>-3678.453349</td>\n",
       "      <td>-4236.891672</td>\n",
       "      <td>-3763.632953</td>\n",
       "      <td>-4040.238155</td>\n",
       "      <td>0.028696</td>\n",
       "      <td>0.003323</td>\n",
       "      <td>212.994249</td>\n",
       "      <td>140.436727</td>\n",
       "    </tr>\n",
       "    <tr>\n",
       "      <th>73</th>\n",
       "      <td>0.129833</td>\n",
       "      <td>0.005339</td>\n",
       "      <td>-3869.632009</td>\n",
       "      <td>-4220.037259</td>\n",
       "      <td>6.34423</td>\n",
       "      <td>{'alpha': 6.34423324423}</td>\n",
       "      <td>3</td>\n",
       "      <td>-4166.804250</td>\n",
       "      <td>-4382.986357</td>\n",
       "      <td>-3678.455428</td>\n",
       "      <td>-4236.888704</td>\n",
       "      <td>-3763.636350</td>\n",
       "      <td>-4040.236714</td>\n",
       "      <td>0.035988</td>\n",
       "      <td>0.000622</td>\n",
       "      <td>212.990536</td>\n",
       "      <td>140.433395</td>\n",
       "    </tr>\n",
       "    <tr>\n",
       "      <th>97</th>\n",
       "      <td>0.130001</td>\n",
       "      <td>0.006502</td>\n",
       "      <td>-3869.632051</td>\n",
       "      <td>-4220.026280</td>\n",
       "      <td>6.33626</td>\n",
       "      <td>{'alpha': 6.33625824675}</td>\n",
       "      <td>4</td>\n",
       "      <td>-4166.791750</td>\n",
       "      <td>-4382.963569</td>\n",
       "      <td>-3678.460224</td>\n",
       "      <td>-4236.881873</td>\n",
       "      <td>-3763.644179</td>\n",
       "      <td>-4040.233399</td>\n",
       "      <td>0.027558</td>\n",
       "      <td>0.004263</td>\n",
       "      <td>212.981989</td>\n",
       "      <td>140.425723</td>\n",
       "    </tr>\n",
       "    <tr>\n",
       "      <th>82</th>\n",
       "      <td>0.115335</td>\n",
       "      <td>0.006335</td>\n",
       "      <td>-3869.632790</td>\n",
       "      <td>-4220.210587</td>\n",
       "      <td>6.46941</td>\n",
       "      <td>{'alpha': 6.46940516762}</td>\n",
       "      <td>5</td>\n",
       "      <td>-4167.003070</td>\n",
       "      <td>-4383.345924</td>\n",
       "      <td>-3678.381125</td>\n",
       "      <td>-4236.996679</td>\n",
       "      <td>-3763.514175</td>\n",
       "      <td>-4040.289159</td>\n",
       "      <td>0.029196</td>\n",
       "      <td>0.001845</td>\n",
       "      <td>213.125506</td>\n",
       "      <td>140.554416</td>\n",
       "    </tr>\n",
       "  </tbody>\n",
       "</table>\n",
       "</div>"
      ],
      "text/plain": [
       "    mean_fit_time  mean_score_time  mean_test_score  mean_train_score  \\\n",
       "90       0.112170         0.005502     -3869.631983      -4220.100380   \n",
       "89       0.117835         0.005834     -3869.631995      -4220.042027   \n",
       "73       0.129833         0.005339     -3869.632009      -4220.037259   \n",
       "97       0.130001         0.006502     -3869.632051      -4220.026280   \n",
       "82       0.115335         0.006335     -3869.632790      -4220.210587   \n",
       "\n",
       "   param_alpha                    params  rank_test_score  split0_test_score  \\\n",
       "90     6.38998  {'alpha': 6.38997841215}                1       -4166.876339   \n",
       "89      6.3477  {'alpha': 6.34769564653}                2       -4166.809683   \n",
       "73     6.34423  {'alpha': 6.34423324423}                3       -4166.804250   \n",
       "97     6.33626  {'alpha': 6.33625824675}                4       -4166.791750   \n",
       "82     6.46941  {'alpha': 6.46940516762}                5       -4167.003070   \n",
       "\n",
       "    split0_train_score  split1_test_score  split1_train_score  \\\n",
       "90        -4383.117349       -3678.428065        -4236.928000   \n",
       "89        -4382.996255       -3678.453349        -4236.891672   \n",
       "73        -4382.986357       -3678.455428        -4236.888704   \n",
       "97        -4382.963569       -3678.460224        -4236.881873   \n",
       "82        -4383.345924       -3678.381125        -4236.996679   \n",
       "\n",
       "    split2_test_score  split2_train_score  std_fit_time  std_score_time  \\\n",
       "90       -3763.591547        -4040.255792      0.027600        0.002830   \n",
       "89       -3763.632953        -4040.238155      0.028696        0.003323   \n",
       "73       -3763.636350        -4040.236714      0.035988        0.000622   \n",
       "97       -3763.644179        -4040.233399      0.027558        0.004263   \n",
       "82       -3763.514175        -4040.289159      0.029196        0.001845   \n",
       "\n",
       "    std_test_score  std_train_score  \n",
       "90      213.039683       140.477491  \n",
       "89      212.994249       140.436727  \n",
       "73      212.990536       140.433395  \n",
       "97      212.981989       140.425723  \n",
       "82      213.125506       140.554416  "
      ]
     },
     "execution_count": 49,
     "metadata": {},
     "output_type": "execute_result"
    }
   ],
   "source": [
    "cv_results = pd.DataFrame(regr_pipe.named_steps['regr_cv'].cv_results_)\n",
    "cv_results.sort_values(by='rank_test_score').head()"
   ]
  },
  {
   "cell_type": "code",
   "execution_count": 48,
   "metadata": {},
   "outputs": [
    {
     "data": {
      "image/png": "[encoded data removed]",
      "text/plain": [
       "<matplotlib.figure.Figure at 0x259d0ea84a8>"
      ]
     },
     "metadata": {},
     "output_type": "display_data"
    }
   ],
   "source": [
    "plt.plot(cv_results['param_alpha'], cv_results['mean_test_score'], 'ro', markersize=1)\n",
    "plt.title('CV negative mean squared error')\n",
    "plt.show()"
   ]
  }
 ],
 "metadata": {
  "kernelspec": {
   "display_name": "TimeSeriesForecastingTutorial local",
   "language": "python",
   "name": "timeseriesforecastingtutorial_local"
  },
  "language_info": {
   "codemirror_mode": {
    "name": "ipython",
    "version": 3
   },
   "file_extension": ".py",
   "mimetype": "text/x-python",
   "name": "python",
   "nbconvert_exporter": "python",
   "pygments_lexer": "ipython3",
   "version": "3.5.2"
  }
 },
 "nbformat": 4,
 "nbformat_minor": 2
}

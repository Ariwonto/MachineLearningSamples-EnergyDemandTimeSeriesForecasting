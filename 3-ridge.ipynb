{
 "cells": [
  {
   "cell_type": "markdown",
   "metadata": {},
   "source": [
    "# Ridge regression\n",
    "**Important**: Change the kernel to *PROJECT_NAME local*. You can do this from the *Kernel* menu under *Change kernel*."
   ]
  },
  {
   "cell_type": "code",
   "execution_count": null,
   "metadata": {},
   "outputs": [],
   "source": [
    "%matplotlib inline\n",
    "import pandas as pd\n",
    "import numpy as np\n",
    "import matplotlib.pyplot as plt\n",
    "from sklearn.pipeline import Pipeline\n",
    "from sklearn.preprocessing import OneHotEncoder\n",
    "from sklearn.linear_model import Ridge\n",
    "from sklearn.metrics import mean_squared_error\n",
    "from sklearn.model_selection import TimeSeriesSplit\n",
    "from sklearn.model_selection import RandomizedSearchCV\n",
    "import pickle\n",
    "import os\n",
    "import scipy.stats as st"
   ]
  },
  {
   "cell_type": "code",
   "execution_count": null,
   "metadata": {},
   "outputs": [],
   "source": [
    "from azureml.logging import get_azureml_logger\n",
    "run_logger = get_azureml_logger()\n",
    "run_logger.log('amlrealworld.timeseries.ridge','true')"
   ]
  },
  {
   "cell_type": "code",
   "execution_count": 3,
   "metadata": {},
   "outputs": [],
   "source": [
    "model_name = \"ridge\"\n",
    "aml_dir = os.environ['AZUREML_NATIVE_SHARE_DIRECTORY']\n",
    "train = pd.read_csv(os.path.join(aml_dir, 'nyc_demand_train.csv'), parse_dates=['timeStamp'])"
   ]
  },
  {
   "cell_type": "markdown",
   "metadata": {},
   "source": [
    "Create model pipeline:\n",
    "- **one-hot encode categorical variables**\n",
    "- **randomized parameter search** with cross validation to find optimal values for the alpha parameter\n",
    "\n",
    "Fitting this pipeline should take less than a minute."
   ]
  },
  {
   "cell_type": "code",
   "execution_count": 4,
   "metadata": {},
   "outputs": [],
   "source": [
    "X = train.drop(['demand', 'timeStamp'], axis=1)"
   ]
  },
  {
   "cell_type": "code",
   "execution_count": 5,
   "metadata": {},
   "outputs": [],
   "source": [
    "cat_cols = ['hour', 'month', 'dayofweek']\n",
    "cat_cols_idx = [X.columns.get_loc(c) for c in X.columns if c in cat_cols]\n",
    "onehot = OneHotEncoder(categorical_features=cat_cols_idx, sparse=False)\n",
    "regr = Ridge(fit_intercept=False)\n",
    "tscv = TimeSeriesSplit(n_splits=3)"
   ]
  },
  {
   "cell_type": "code",
   "execution_count": 6,
   "metadata": {},
   "outputs": [
    {
     "name": "stdout",
     "output_type": "stream",
     "text": [
      "Fitting 3 folds for each of 100 candidates, totalling 300 fits\n"
     ]
    },
    {
     "name": "stderr",
     "output_type": "stream",
     "text": [
      "[Parallel(n_jobs=-1)]: Done  33 tasks      | elapsed:    3.9s\n",
      "[Parallel(n_jobs=-1)]: Done 154 tasks      | elapsed:    8.1s\n",
      "[Parallel(n_jobs=-1)]: Done 300 out of 300 | elapsed:   12.9s finished\n"
     ]
    },
    {
     "data": {
      "text/plain": [
       "Pipeline(steps=[('onehot', OneHotEncoder(categorical_features=[2, 3, 4], dtype=<class 'numpy.float64'>,\n",
       "       handle_unknown='error', n_values='auto', sparse=False)), ('regr_cv', RandomizedSearchCV(cv=TimeSeriesSplit(n_splits=3), error_score='raise',\n",
       "          estimator=Ridge(alpha=1.0, copy_X=True, fit_int...it=True,\n",
       "          return_train_score=True, scoring='neg_mean_squared_error',\n",
       "          verbose=2))])"
      ]
     },
     "execution_count": 6,
     "metadata": {},
     "output_type": "execute_result"
    }
   ],
   "source": [
    "param_dist = {'alpha': st.uniform(1e-4, 10.0)}\n",
    "regr_cv = RandomizedSearchCV(estimator=regr,\n",
    "                            param_distributions=param_dist,\n",
    "                            n_iter=100,\n",
    "                            scoring='neg_mean_squared_error',\n",
    "                            iid=False,\n",
    "                            cv=tscv,\n",
    "                            verbose=2,\n",
    "                            n_jobs=-1)\n",
    "regr_pipe = Pipeline([('onehot', onehot), ('regr_cv', regr_cv)])\n",
    "regr_pipe.fit(X, y=train['demand'])"
   ]
  },
  {
   "cell_type": "code",
   "execution_count": 7,
   "metadata": {},
   "outputs": [],
   "source": [
    "with open(os.path.join(aml_dir, model_name + '.pkl'), 'wb') as f:\n",
    "    pickle.dump(regr_pipe, f)"
   ]
  },
  {
   "cell_type": "markdown",
   "metadata": {},
   "source": [
    "Cross validation results"
   ]
  },
  {
   "cell_type": "code",
   "execution_count": 8,
   "metadata": {},
   "outputs": [
    {
     "data": {
      "text/html": [
       "<div>\n",
       "<style scoped>\n",
       "    .dataframe tbody tr th:only-of-type {\n",
       "        vertical-align: middle;\n",
       "    }\n",
       "\n",
       "    .dataframe tbody tr th {\n",
       "        vertical-align: top;\n",
       "    }\n",
       "\n",
       "    .dataframe thead th {\n",
       "        text-align: right;\n",
       "    }\n",
       "</style>\n",
       "<table border=\"1\" class=\"dataframe\">\n",
       "  <thead>\n",
       "    <tr style=\"text-align: right;\">\n",
       "      <th></th>\n",
       "      <th>mean_fit_time</th>\n",
       "      <th>mean_score_time</th>\n",
       "      <th>mean_test_score</th>\n",
       "      <th>mean_train_score</th>\n",
       "      <th>param_alpha</th>\n",
       "      <th>params</th>\n",
       "      <th>rank_test_score</th>\n",
       "      <th>split0_test_score</th>\n",
       "      <th>split0_train_score</th>\n",
       "      <th>split1_test_score</th>\n",
       "      <th>split1_train_score</th>\n",
       "      <th>split2_test_score</th>\n",
       "      <th>split2_train_score</th>\n",
       "      <th>std_fit_time</th>\n",
       "      <th>std_score_time</th>\n",
       "      <th>std_test_score</th>\n",
       "      <th>std_train_score</th>\n",
       "    </tr>\n",
       "  </thead>\n",
       "  <tbody>\n",
       "    <tr>\n",
       "      <th>49</th>\n",
       "      <td>0.089835</td>\n",
       "      <td>0.006168</td>\n",
       "      <td>-3878.859395</td>\n",
       "      <td>-4220.967056</td>\n",
       "      <td>6.49913</td>\n",
       "      <td>{'alpha': 6.49912577285}</td>\n",
       "      <td>1</td>\n",
       "      <td>-4167.935766</td>\n",
       "      <td>-4384.068902</td>\n",
       "      <td>-3678.923700</td>\n",
       "      <td>-4237.816380</td>\n",
       "      <td>-3789.718719</td>\n",
       "      <td>-4041.015886</td>\n",
       "      <td>0.033066</td>\n",
       "      <td>0.002393</td>\n",
       "      <td>209.352566</td>\n",
       "      <td>140.556674</td>\n",
       "    </tr>\n",
       "    <tr>\n",
       "      <th>38</th>\n",
       "      <td>0.087167</td>\n",
       "      <td>0.003672</td>\n",
       "      <td>-3878.860897</td>\n",
       "      <td>-4220.383619</td>\n",
       "      <td>6.07326</td>\n",
       "      <td>{'alpha': 6.07326031928}</td>\n",
       "      <td>2</td>\n",
       "      <td>-4167.276157</td>\n",
       "      <td>-4382.857228</td>\n",
       "      <td>-3679.182119</td>\n",
       "      <td>-4237.453682</td>\n",
       "      <td>-3790.124415</td>\n",
       "      <td>-4040.839947</td>\n",
       "      <td>0.030801</td>\n",
       "      <td>0.000940</td>\n",
       "      <td>208.909182</td>\n",
       "      <td>140.148720</td>\n",
       "    </tr>\n",
       "    <tr>\n",
       "      <th>41</th>\n",
       "      <td>0.204834</td>\n",
       "      <td>0.013664</td>\n",
       "      <td>-3878.862970</td>\n",
       "      <td>-4220.321732</td>\n",
       "      <td>6.02709</td>\n",
       "      <td>{'alpha': 6.02709056681}</td>\n",
       "      <td>3</td>\n",
       "      <td>-4167.208182</td>\n",
       "      <td>-4382.728418</td>\n",
       "      <td>-3679.211411</td>\n",
       "      <td>-4237.415367</td>\n",
       "      <td>-3790.169318</td>\n",
       "      <td>-4040.821411</td>\n",
       "      <td>0.049504</td>\n",
       "      <td>0.004988</td>\n",
       "      <td>208.862212</td>\n",
       "      <td>140.105305</td>\n",
       "    </tr>\n",
       "    <tr>\n",
       "      <th>17</th>\n",
       "      <td>0.060001</td>\n",
       "      <td>0.002500</td>\n",
       "      <td>-3878.864722</td>\n",
       "      <td>-4221.139403</td>\n",
       "      <td>6.62191</td>\n",
       "      <td>{'alpha': 6.62191382787}</td>\n",
       "      <td>4</td>\n",
       "      <td>-4168.136558</td>\n",
       "      <td>-4384.425942</td>\n",
       "      <td>-3678.853064</td>\n",
       "      <td>-4237.924014</td>\n",
       "      <td>-3789.604544</td>\n",
       "      <td>-4041.068253</td>\n",
       "      <td>0.012296</td>\n",
       "      <td>0.000001</td>\n",
       "      <td>209.483681</td>\n",
       "      <td>140.676741</td>\n",
       "    </tr>\n",
       "    <tr>\n",
       "      <th>23</th>\n",
       "      <td>0.065000</td>\n",
       "      <td>0.002667</td>\n",
       "      <td>-3878.867951</td>\n",
       "      <td>-4221.217791</td>\n",
       "      <td>6.67734</td>\n",
       "      <td>{'alpha': 6.67733989627}</td>\n",
       "      <td>5</td>\n",
       "      <td>-4168.228705</td>\n",
       "      <td>-4384.588205</td>\n",
       "      <td>-3678.821738</td>\n",
       "      <td>-4237.973040</td>\n",
       "      <td>-3789.553410</td>\n",
       "      <td>-4041.092128</td>\n",
       "      <td>0.008154</td>\n",
       "      <td>0.000623</td>\n",
       "      <td>209.543329</td>\n",
       "      <td>140.731287</td>\n",
       "    </tr>\n",
       "  </tbody>\n",
       "</table>\n",
       "</div>"
      ],
      "text/plain": [
       "    mean_fit_time  mean_score_time  mean_test_score  mean_train_score  \\\n",
       "49       0.089835         0.006168     -3878.859395      -4220.967056   \n",
       "38       0.087167         0.003672     -3878.860897      -4220.383619   \n",
       "41       0.204834         0.013664     -3878.862970      -4220.321732   \n",
       "17       0.060001         0.002500     -3878.864722      -4221.139403   \n",
       "23       0.065000         0.002667     -3878.867951      -4221.217791   \n",
       "\n",
       "   param_alpha                    params  rank_test_score  split0_test_score  \\\n",
       "49     6.49913  {'alpha': 6.49912577285}                1       -4167.935766   \n",
       "38     6.07326  {'alpha': 6.07326031928}                2       -4167.276157   \n",
       "41     6.02709  {'alpha': 6.02709056681}                3       -4167.208182   \n",
       "17     6.62191  {'alpha': 6.62191382787}                4       -4168.136558   \n",
       "23     6.67734  {'alpha': 6.67733989627}                5       -4168.228705   \n",
       "\n",
       "    split0_train_score  split1_test_score  split1_train_score  \\\n",
       "49        -4384.068902       -3678.923700        -4237.816380   \n",
       "38        -4382.857228       -3679.182119        -4237.453682   \n",
       "41        -4382.728418       -3679.211411        -4237.415367   \n",
       "17        -4384.425942       -3678.853064        -4237.924014   \n",
       "23        -4384.588205       -3678.821738        -4237.973040   \n",
       "\n",
       "    split2_test_score  split2_train_score  std_fit_time  std_score_time  \\\n",
       "49       -3789.718719        -4041.015886      0.033066        0.002393   \n",
       "38       -3790.124415        -4040.839947      0.030801        0.000940   \n",
       "41       -3790.169318        -4040.821411      0.049504        0.004988   \n",
       "17       -3789.604544        -4041.068253      0.012296        0.000001   \n",
       "23       -3789.553410        -4041.092128      0.008154        0.000623   \n",
       "\n",
       "    std_test_score  std_train_score  \n",
       "49      209.352566       140.556674  \n",
       "38      208.909182       140.148720  \n",
       "41      208.862212       140.105305  \n",
       "17      209.483681       140.676741  \n",
       "23      209.543329       140.731287  "
      ]
     },
     "execution_count": 8,
     "metadata": {},
     "output_type": "execute_result"
    }
   ],
   "source": [
    "cv_results = pd.DataFrame(regr_pipe.named_steps['regr_cv'].cv_results_)\n",
    "cv_results.sort_values(by='rank_test_score').head()"
   ]
  },
  {
   "cell_type": "code",
   "execution_count": 9,
   "metadata": {},
   "outputs": [
    {
     "data": {
      "image/png": "[encoded data removed]",
      "text/plain": [
       "<matplotlib.figure.Figure at 0x21ba06f3be0>"
      ]
     },
     "metadata": {},
     "output_type": "display_data"
    }
   ],
   "source": [
    "plt.plot(cv_results['param_alpha'], cv_results['mean_test_score'], 'ro', markersize=1)\n",
    "plt.title('CV negative mean squared error')\n",
    "plt.show()"
   ]
  }
 ],
 "metadata": {
  "kernelspec": {
   "display_name": "TimeSeriesForecastingTutorial local",
   "language": "python",
   "name": "timeseriesforecastingtutorial_local"
  },
  "language_info": {
   "codemirror_mode": {
    "name": "ipython",
    "version": 3
   },
   "file_extension": ".py",
   "mimetype": "text/x-python",
   "name": "python",
   "nbconvert_exporter": "python",
   "pygments_lexer": "ipython3",
   "version": "3.5.2"
  }
 },
 "nbformat": 4,
 "nbformat_minor": 2
}

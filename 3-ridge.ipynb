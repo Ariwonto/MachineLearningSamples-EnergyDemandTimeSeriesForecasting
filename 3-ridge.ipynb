{
 "cells": [
  {
   "cell_type": "markdown",
   "metadata": {},
   "source": [
    "# Ridge regression"
   ]
  },
  {
   "cell_type": "code",
   "execution_count": 1,
   "metadata": {
    "collapsed": true
   },
   "outputs": [],
   "source": [
    "%matplotlib inline\n",
    "import pandas as pd\n",
    "import numpy as np\n",
    "import matplotlib.pyplot as plt\n",
    "from sklearn.pipeline import Pipeline\n",
    "from sklearn.preprocessing import OneHotEncoder\n",
    "from sklearn.linear_model import Ridge\n",
    "from sklearn.metrics import mean_squared_error\n",
    "from sklearn.model_selection import TimeSeriesSplit\n",
    "from sklearn.model_selection import GridSearchCV\n",
    "import pickle\n",
    "import os"
   ]
  },
  {
   "cell_type": "code",
   "execution_count": 2,
   "metadata": {
    "collapsed": true
   },
   "outputs": [],
   "source": [
    "model_name = \"ridge\"\n",
    "aml_dir = os.environ['AZUREML_NATIVE_SHARE_DIRECTORY']\n",
    "train = pd.read_csv(aml_dir + 'nyc_demand_train.csv', parse_dates=['timeStamp'])"
   ]
  },
  {
   "cell_type": "markdown",
   "metadata": {},
   "source": [
    "Create model pipeline:\n",
    "- one-hot encode categorical variables\n",
    "- grid search to find optimal values for the alpha parameter "
   ]
  },
  {
   "cell_type": "code",
   "execution_count": 3,
   "metadata": {
    "collapsed": true
   },
   "outputs": [],
   "source": [
    "X = train.drop(['demand', 'timeStamp'], axis=1)"
   ]
  },
  {
   "cell_type": "code",
   "execution_count": 4,
   "metadata": {
    "collapsed": true
   },
   "outputs": [],
   "source": [
    "cat_cols = ['hour', 'month', 'dayofweek']\n",
    "cat_cols_idx = [X.columns.get_loc(c) for c in X.columns if c in cat_cols]\n",
    "onehot = OneHotEncoder(categorical_features=cat_cols_idx, sparse=False)\n",
    "regr = Ridge(fit_intercept=False)\n",
    "tscv = TimeSeriesSplit(n_splits=3)"
   ]
  },
  {
   "cell_type": "code",
   "execution_count": 5,
   "metadata": {},
   "outputs": [
    {
     "name": "stdout",
     "output_type": "stream",
     "text": [
      "Fitting 3 folds for each of 5 candidates, totalling 15 fits\n"
     ]
    },
    {
     "name": "stderr",
     "output_type": "stream",
     "text": [
      "[Parallel(n_jobs=-1)]: Done  15 out of  15 | elapsed:    4.5s finished\n"
     ]
    },
    {
     "data": {
      "text/plain": [
       "Pipeline(memory=None,\n",
       "     steps=[('onehot', OneHotEncoder(categorical_features=[2, 3, 4], dtype=<class 'numpy.float64'>,\n",
       "       handle_unknown='error', n_values='auto', sparse=False)), ('regr_cv', GridSearchCV(cv=None, error_score='raise',\n",
       "       estimator=Ridge(alpha=1.0, copy_X=True, fit_intercept=False, max_iter=None,\n",
       "   ...*n_jobs', refit=True, return_train_score=True,\n",
       "       scoring='neg_mean_squared_error', verbose=2))])"
      ]
     },
     "execution_count": 5,
     "metadata": {},
     "output_type": "execute_result"
    }
   ],
   "source": [
    "param_grid = {'alpha': [ 1e-4, 1e-3, 1e-2, 0.1, 1.0]}\n",
    "regr_cv = GridSearchCV(estimator=regr,\n",
    "                            param_grid=param_grid,\n",
    "                            scoring='neg_mean_squared_error',\n",
    "                            iid=False,\n",
    "                            verbose=2,\n",
    "                            n_jobs=-1)\n",
    "regr_pipe = Pipeline([('onehot', onehot), ('regr_cv', regr_cv)])\n",
    "regr_pipe.fit(X, y=train['demand'])"
   ]
  },
  {
   "cell_type": "markdown",
   "metadata": {},
   "source": [
    "Save model to AML shared directory"
   ]
  },
  {
   "cell_type": "code",
   "execution_count": 6,
   "metadata": {
    "collapsed": true
   },
   "outputs": [],
   "source": [
    "with open(aml_dir + model_name + '.pkl', 'wb') as f:\n",
    "    pickle.dump(regr_pipe, f)"
   ]
  },
  {
   "cell_type": "markdown",
   "metadata": {},
   "source": [
    "### Cross validation results"
   ]
  },
  {
   "cell_type": "code",
   "execution_count": 7,
   "metadata": {},
   "outputs": [
    {
     "data": {
      "text/html": [
       "<div>\n",
       "<style>\n",
       "    .dataframe thead tr:only-child th {\n",
       "        text-align: right;\n",
       "    }\n",
       "\n",
       "    .dataframe thead th {\n",
       "        text-align: left;\n",
       "    }\n",
       "\n",
       "    .dataframe tbody tr th {\n",
       "        vertical-align: top;\n",
       "    }\n",
       "</style>\n",
       "<table border=\"1\" class=\"dataframe\">\n",
       "  <thead>\n",
       "    <tr style=\"text-align: right;\">\n",
       "      <th></th>\n",
       "      <th>mean_fit_time</th>\n",
       "      <th>mean_score_time</th>\n",
       "      <th>mean_test_score</th>\n",
       "      <th>mean_train_score</th>\n",
       "      <th>param_alpha</th>\n",
       "      <th>params</th>\n",
       "      <th>rank_test_score</th>\n",
       "      <th>split0_test_score</th>\n",
       "      <th>split0_train_score</th>\n",
       "      <th>split1_test_score</th>\n",
       "      <th>split1_train_score</th>\n",
       "      <th>split2_test_score</th>\n",
       "      <th>split2_train_score</th>\n",
       "      <th>std_fit_time</th>\n",
       "      <th>std_score_time</th>\n",
       "      <th>std_test_score</th>\n",
       "      <th>std_train_score</th>\n",
       "    </tr>\n",
       "  </thead>\n",
       "  <tbody>\n",
       "    <tr>\n",
       "      <th>4</th>\n",
       "      <td>0.066832</td>\n",
       "      <td>0.003333</td>\n",
       "      <td>-4037.739712</td>\n",
       "      <td>-3948.063980</td>\n",
       "      <td>1</td>\n",
       "      <td>{'alpha': 1.0}</td>\n",
       "      <td>1</td>\n",
       "      <td>-4367.502700</td>\n",
       "      <td>-3781.697790</td>\n",
       "      <td>-4029.299832</td>\n",
       "      <td>-3949.464648</td>\n",
       "      <td>-3716.416603</td>\n",
       "      <td>-4113.029501</td>\n",
       "      <td>0.009683</td>\n",
       "      <td>0.000850</td>\n",
       "      <td>265.871774</td>\n",
       "      <td>135.269230</td>\n",
       "    </tr>\n",
       "    <tr>\n",
       "      <th>3</th>\n",
       "      <td>0.105500</td>\n",
       "      <td>0.005502</td>\n",
       "      <td>-4038.054248</td>\n",
       "      <td>-3948.015753</td>\n",
       "      <td>0.1</td>\n",
       "      <td>{'alpha': 0.1}</td>\n",
       "      <td>2</td>\n",
       "      <td>-4366.641969</td>\n",
       "      <td>-3781.656408</td>\n",
       "      <td>-4030.073518</td>\n",
       "      <td>-3949.410836</td>\n",
       "      <td>-3717.447258</td>\n",
       "      <td>-4112.980017</td>\n",
       "      <td>0.008842</td>\n",
       "      <td>0.001473</td>\n",
       "      <td>265.092703</td>\n",
       "      <td>135.265894</td>\n",
       "    </tr>\n",
       "    <tr>\n",
       "      <th>2</th>\n",
       "      <td>0.068340</td>\n",
       "      <td>0.007170</td>\n",
       "      <td>-4038.091544</td>\n",
       "      <td>-3948.015253</td>\n",
       "      <td>0.01</td>\n",
       "      <td>{'alpha': 0.01}</td>\n",
       "      <td>3</td>\n",
       "      <td>-4366.559034</td>\n",
       "      <td>-3781.655983</td>\n",
       "      <td>-4030.159580</td>\n",
       "      <td>-3949.410275</td>\n",
       "      <td>-3717.556017</td>\n",
       "      <td>-4112.979500</td>\n",
       "      <td>0.002359</td>\n",
       "      <td>0.002776</td>\n",
       "      <td>265.013731</td>\n",
       "      <td>135.265856</td>\n",
       "    </tr>\n",
       "    <tr>\n",
       "      <th>1</th>\n",
       "      <td>0.095837</td>\n",
       "      <td>0.006500</td>\n",
       "      <td>-4038.095334</td>\n",
       "      <td>-3948.015248</td>\n",
       "      <td>0.001</td>\n",
       "      <td>{'alpha': 0.001}</td>\n",
       "      <td>4</td>\n",
       "      <td>-4366.550772</td>\n",
       "      <td>-3781.655979</td>\n",
       "      <td>-4030.168277</td>\n",
       "      <td>-3949.410269</td>\n",
       "      <td>-3717.566953</td>\n",
       "      <td>-4112.979495</td>\n",
       "      <td>0.048539</td>\n",
       "      <td>0.002678</td>\n",
       "      <td>265.005822</td>\n",
       "      <td>135.265856</td>\n",
       "    </tr>\n",
       "    <tr>\n",
       "      <th>0</th>\n",
       "      <td>0.073193</td>\n",
       "      <td>0.003170</td>\n",
       "      <td>-4038.095714</td>\n",
       "      <td>-3948.015248</td>\n",
       "      <td>0.0001</td>\n",
       "      <td>{'alpha': 0.0001}</td>\n",
       "      <td>5</td>\n",
       "      <td>-4366.549947</td>\n",
       "      <td>-3781.655979</td>\n",
       "      <td>-4030.169147</td>\n",
       "      <td>-3949.410269</td>\n",
       "      <td>-3717.568047</td>\n",
       "      <td>-4112.979495</td>\n",
       "      <td>0.004711</td>\n",
       "      <td>0.000622</td>\n",
       "      <td>265.005031</td>\n",
       "      <td>135.265856</td>\n",
       "    </tr>\n",
       "  </tbody>\n",
       "</table>\n",
       "</div>"
      ],
      "text/plain": [
       "   mean_fit_time  mean_score_time  mean_test_score  mean_train_score  \\\n",
       "4       0.066832         0.003333     -4037.739712      -3948.063980   \n",
       "3       0.105500         0.005502     -4038.054248      -3948.015753   \n",
       "2       0.068340         0.007170     -4038.091544      -3948.015253   \n",
       "1       0.095837         0.006500     -4038.095334      -3948.015248   \n",
       "0       0.073193         0.003170     -4038.095714      -3948.015248   \n",
       "\n",
       "  param_alpha             params  rank_test_score  split0_test_score  \\\n",
       "4           1     {'alpha': 1.0}                1       -4367.502700   \n",
       "3         0.1     {'alpha': 0.1}                2       -4366.641969   \n",
       "2        0.01    {'alpha': 0.01}                3       -4366.559034   \n",
       "1       0.001   {'alpha': 0.001}                4       -4366.550772   \n",
       "0      0.0001  {'alpha': 0.0001}                5       -4366.549947   \n",
       "\n",
       "   split0_train_score  split1_test_score  split1_train_score  \\\n",
       "4        -3781.697790       -4029.299832        -3949.464648   \n",
       "3        -3781.656408       -4030.073518        -3949.410836   \n",
       "2        -3781.655983       -4030.159580        -3949.410275   \n",
       "1        -3781.655979       -4030.168277        -3949.410269   \n",
       "0        -3781.655979       -4030.169147        -3949.410269   \n",
       "\n",
       "   split2_test_score  split2_train_score  std_fit_time  std_score_time  \\\n",
       "4       -3716.416603        -4113.029501      0.009683        0.000850   \n",
       "3       -3717.447258        -4112.980017      0.008842        0.001473   \n",
       "2       -3717.556017        -4112.979500      0.002359        0.002776   \n",
       "1       -3717.566953        -4112.979495      0.048539        0.002678   \n",
       "0       -3717.568047        -4112.979495      0.004711        0.000622   \n",
       "\n",
       "   std_test_score  std_train_score  \n",
       "4      265.871774       135.269230  \n",
       "3      265.092703       135.265894  \n",
       "2      265.013731       135.265856  \n",
       "1      265.005822       135.265856  \n",
       "0      265.005031       135.265856  "
      ]
     },
     "execution_count": 7,
     "metadata": {},
     "output_type": "execute_result"
    }
   ],
   "source": [
    "cv_results = pd.DataFrame(regr_pipe.named_steps['regr_cv'].cv_results_)\n",
    "cv_results.sort_values(by='rank_test_score')"
   ]
  },
  {
   "cell_type": "code",
   "execution_count": 8,
   "metadata": {},
   "outputs": [
    {
     "data": {
      "image/png": "[encoded data removed]",
      "text/plain": [
       "<matplotlib.figure.Figure at 0x207445ce208>"
      ]
     },
     "metadata": {},
     "output_type": "display_data"
    }
   ],
   "source": [
    "plt.figure(figsize=(15, 5))\n",
    "plt.plot(cv_results['param_alpha'], cv_results['mean_test_score'], 'ro')\n",
    "plt.title('CV mean squared error')\n",
    "plt.show()"
   ]
  }
 ],
 "metadata": {
  "kernelspec": {
   "display_name": "TimeSeriesForecastingTutorial local",
   "language": "python",
   "name": "timeseriesforecastingtutorial_local"
  },
  "language_info": {
   "codemirror_mode": {
    "name": "ipython",
    "version": 3
   },
   "file_extension": ".py",
   "mimetype": "text/x-python",
   "name": "python",
   "nbconvert_exporter": "python",
   "pygments_lexer": "ipython3",
   "version": "3.5.2"
  }
 },
 "nbformat": 4,
 "nbformat_minor": 2
}

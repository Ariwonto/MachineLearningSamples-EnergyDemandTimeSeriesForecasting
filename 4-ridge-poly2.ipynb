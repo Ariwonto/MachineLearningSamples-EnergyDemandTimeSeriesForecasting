{
 "cells": [
  {
   "cell_type": "markdown",
   "metadata": {},
   "source": [
    "# Ridge regression with polynomial features of degree 2"
   ]
  },
  {
   "cell_type": "code",
   "execution_count": 1,
   "metadata": {
    "collapsed": true
   },
   "outputs": [],
   "source": [
    "%matplotlib inline\n",
    "import pandas as pd\n",
    "import numpy as np\n",
    "import matplotlib.pyplot as plt\n",
    "from sklearn.pipeline import Pipeline\n",
    "from sklearn.preprocessing import OneHotEncoder\n",
    "from sklearn.linear_model import Ridge\n",
    "from sklearn.metrics import mean_squared_error\n",
    "from sklearn.model_selection import TimeSeriesSplit\n",
    "from sklearn.model_selection import GridSearchCV\n",
    "from sklearn.preprocessing import PolynomialFeatures\n",
    "import pickle\n",
    "import os"
   ]
  },
  {
   "cell_type": "code",
   "execution_count": 2,
   "metadata": {
    "collapsed": true
   },
   "outputs": [],
   "source": [
    "model_name = \"ridge_poly2\"\n",
    "aml_dir = os.environ['AZUREML_NATIVE_SHARE_DIRECTORY']\n",
    "train = pd.read_csv(aml_dir + 'nyc_demand_train.csv', parse_dates=['timeStamp'])"
   ]
  },
  {
   "cell_type": "markdown",
   "metadata": {},
   "source": [
    "Create model pipeline:\n",
    "- one-hot encode categorical features.\n",
    "- create polynomial features of degree 2. This means that for each pair of features $(x_1, x_2)$, the output features are $(x_1, x_2, x_1^2, x_1x_2, x_2^2)$\n",
    "- use grid search to find optimal values for the alpha parameter."
   ]
  },
  {
   "cell_type": "code",
   "execution_count": 3,
   "metadata": {
    "collapsed": true
   },
   "outputs": [],
   "source": [
    "X = train.drop(['demand', 'timeStamp'], axis=1)"
   ]
  },
  {
   "cell_type": "code",
   "execution_count": 4,
   "metadata": {
    "collapsed": true
   },
   "outputs": [],
   "source": [
    "cat_cols = ['hour', 'month', 'dayofweek']\n",
    "cat_cols_idx = [X.columns.get_loc(c) for c in X.columns if c in cat_cols]\n",
    "onehot = OneHotEncoder(categorical_features=cat_cols_idx, sparse=False)\n",
    "regr = Ridge(fit_intercept=False)\n",
    "poly = PolynomialFeatures(2)\n",
    "tscv = TimeSeriesSplit(n_splits=3)"
   ]
  },
  {
   "cell_type": "code",
   "execution_count": 5,
   "metadata": {},
   "outputs": [
    {
     "name": "stdout",
     "output_type": "stream",
     "text": [
      "Fitting 3 folds for each of 5 candidates, totalling 15 fits\n"
     ]
    },
    {
     "name": "stderr",
     "output_type": "stream",
     "text": [
      "[Parallel(n_jobs=-1)]: Done  15 out of  15 | elapsed:   39.4s finished\n"
     ]
    },
    {
     "data": {
      "text/plain": [
       "Pipeline(memory=None,\n",
       "     steps=[('onehot', OneHotEncoder(categorical_features=[2, 3, 4], dtype=<class 'numpy.float64'>,\n",
       "       handle_unknown='error', n_values='auto', sparse=False)), ('poly', PolynomialFeatures(degree=2, include_bias=True, interaction_only=False)), ('regr_cv', GridSearchCV(cv=None, error_score='raise',\n",
       "   ...*n_jobs', refit=True, return_train_score=True,\n",
       "       scoring='neg_mean_squared_error', verbose=2))])"
      ]
     },
     "execution_count": 5,
     "metadata": {},
     "output_type": "execute_result"
    }
   ],
   "source": [
    "param_grid = {'alpha': [ 1e-4, 1e-3, 1e-2, 0.1, 1.0]}\n",
    "regr_cv = GridSearchCV(estimator=regr,\n",
    "                            param_grid=param_grid,\n",
    "                            scoring='neg_mean_squared_error',\n",
    "                            iid=False,\n",
    "                            verbose=2,\n",
    "                            n_jobs=-1)\n",
    "regr_pipe = Pipeline([('onehot', onehot), ('poly', poly), ('regr_cv', regr_cv)])\n",
    "regr_pipe.fit(X, y=train['demand'])"
   ]
  },
  {
   "cell_type": "markdown",
   "metadata": {},
   "source": [
    "Save model to AML shared directory"
   ]
  },
  {
   "cell_type": "code",
   "execution_count": 6,
   "metadata": {
    "collapsed": true
   },
   "outputs": [],
   "source": [
    "with open(aml_dir + model_name + '.pkl', 'wb') as f:\n",
    "    pickle.dump(regr_pipe, f)"
   ]
  },
  {
   "cell_type": "markdown",
   "metadata": {},
   "source": [
    "### Cross validation results"
   ]
  },
  {
   "cell_type": "code",
   "execution_count": 7,
   "metadata": {},
   "outputs": [
    {
     "data": {
      "text/html": [
       "<div>\n",
       "<style>\n",
       "    .dataframe thead tr:only-child th {\n",
       "        text-align: right;\n",
       "    }\n",
       "\n",
       "    .dataframe thead th {\n",
       "        text-align: left;\n",
       "    }\n",
       "\n",
       "    .dataframe tbody tr th {\n",
       "        vertical-align: top;\n",
       "    }\n",
       "</style>\n",
       "<table border=\"1\" class=\"dataframe\">\n",
       "  <thead>\n",
       "    <tr style=\"text-align: right;\">\n",
       "      <th></th>\n",
       "      <th>mean_fit_time</th>\n",
       "      <th>mean_score_time</th>\n",
       "      <th>mean_test_score</th>\n",
       "      <th>mean_train_score</th>\n",
       "      <th>param_alpha</th>\n",
       "      <th>params</th>\n",
       "      <th>rank_test_score</th>\n",
       "      <th>split0_test_score</th>\n",
       "      <th>split0_train_score</th>\n",
       "      <th>split1_test_score</th>\n",
       "      <th>split1_train_score</th>\n",
       "      <th>split2_test_score</th>\n",
       "      <th>split2_train_score</th>\n",
       "      <th>std_fit_time</th>\n",
       "      <th>std_score_time</th>\n",
       "      <th>std_test_score</th>\n",
       "      <th>std_train_score</th>\n",
       "    </tr>\n",
       "  </thead>\n",
       "  <tbody>\n",
       "    <tr>\n",
       "      <th>4</th>\n",
       "      <td>6.040413</td>\n",
       "      <td>0.063668</td>\n",
       "      <td>-1419.151142</td>\n",
       "      <td>-1034.359952</td>\n",
       "      <td>1</td>\n",
       "      <td>{'alpha': 1.0}</td>\n",
       "      <td>1</td>\n",
       "      <td>-1819.667715</td>\n",
       "      <td>-991.893433</td>\n",
       "      <td>-1218.838939</td>\n",
       "      <td>-1050.614844</td>\n",
       "      <td>-1218.946772</td>\n",
       "      <td>-1060.571579</td>\n",
       "      <td>0.543446</td>\n",
       "      <td>0.011721</td>\n",
       "      <td>283.207988</td>\n",
       "      <td>30.302234</td>\n",
       "    </tr>\n",
       "    <tr>\n",
       "      <th>3</th>\n",
       "      <td>7.524934</td>\n",
       "      <td>0.094002</td>\n",
       "      <td>-1427.825566</td>\n",
       "      <td>-1028.968389</td>\n",
       "      <td>0.1</td>\n",
       "      <td>{'alpha': 0.1}</td>\n",
       "      <td>2</td>\n",
       "      <td>-1835.471869</td>\n",
       "      <td>-987.532266</td>\n",
       "      <td>-1225.624493</td>\n",
       "      <td>-1044.337627</td>\n",
       "      <td>-1222.380334</td>\n",
       "      <td>-1055.035275</td>\n",
       "      <td>0.464131</td>\n",
       "      <td>0.037876</td>\n",
       "      <td>288.252508</td>\n",
       "      <td>29.623461</td>\n",
       "    </tr>\n",
       "    <tr>\n",
       "      <th>2</th>\n",
       "      <td>8.083775</td>\n",
       "      <td>0.095169</td>\n",
       "      <td>-1431.572946</td>\n",
       "      <td>-1027.928940</td>\n",
       "      <td>0.01</td>\n",
       "      <td>{'alpha': 0.01}</td>\n",
       "      <td>3</td>\n",
       "      <td>-1843.410824</td>\n",
       "      <td>-986.460244</td>\n",
       "      <td>-1227.918504</td>\n",
       "      <td>-1043.342085</td>\n",
       "      <td>-1223.389510</td>\n",
       "      <td>-1053.984491</td>\n",
       "      <td>0.608912</td>\n",
       "      <td>0.030338</td>\n",
       "      <td>291.219226</td>\n",
       "      <td>29.642928</td>\n",
       "    </tr>\n",
       "    <tr>\n",
       "      <th>1</th>\n",
       "      <td>8.118966</td>\n",
       "      <td>0.081003</td>\n",
       "      <td>-1432.734628</td>\n",
       "      <td>-1027.844000</td>\n",
       "      <td>0.001</td>\n",
       "      <td>{'alpha': 0.001}</td>\n",
       "      <td>4</td>\n",
       "      <td>-1846.036296</td>\n",
       "      <td>-986.367274</td>\n",
       "      <td>-1228.252404</td>\n",
       "      <td>-1043.270632</td>\n",
       "      <td>-1223.915183</td>\n",
       "      <td>-1053.894094</td>\n",
       "      <td>1.325366</td>\n",
       "      <td>0.005307</td>\n",
       "      <td>292.253777</td>\n",
       "      <td>29.647412</td>\n",
       "    </tr>\n",
       "    <tr>\n",
       "      <th>0</th>\n",
       "      <td>8.156729</td>\n",
       "      <td>0.076337</td>\n",
       "      <td>-1432.903575</td>\n",
       "      <td>-1027.842525</td>\n",
       "      <td>0.0001</td>\n",
       "      <td>{'alpha': 0.0001}</td>\n",
       "      <td>5</td>\n",
       "      <td>-1846.405013</td>\n",
       "      <td>-986.365602</td>\n",
       "      <td>-1228.298099</td>\n",
       "      <td>-1043.269460</td>\n",
       "      <td>-1224.007612</td>\n",
       "      <td>-1053.892513</td>\n",
       "      <td>1.121083</td>\n",
       "      <td>0.006484</td>\n",
       "      <td>292.394917</td>\n",
       "      <td>29.647526</td>\n",
       "    </tr>\n",
       "  </tbody>\n",
       "</table>\n",
       "</div>"
      ],
      "text/plain": [
       "   mean_fit_time  mean_score_time  mean_test_score  mean_train_score  \\\n",
       "4       6.040413         0.063668     -1419.151142      -1034.359952   \n",
       "3       7.524934         0.094002     -1427.825566      -1028.968389   \n",
       "2       8.083775         0.095169     -1431.572946      -1027.928940   \n",
       "1       8.118966         0.081003     -1432.734628      -1027.844000   \n",
       "0       8.156729         0.076337     -1432.903575      -1027.842525   \n",
       "\n",
       "  param_alpha             params  rank_test_score  split0_test_score  \\\n",
       "4           1     {'alpha': 1.0}                1       -1819.667715   \n",
       "3         0.1     {'alpha': 0.1}                2       -1835.471869   \n",
       "2        0.01    {'alpha': 0.01}                3       -1843.410824   \n",
       "1       0.001   {'alpha': 0.001}                4       -1846.036296   \n",
       "0      0.0001  {'alpha': 0.0001}                5       -1846.405013   \n",
       "\n",
       "   split0_train_score  split1_test_score  split1_train_score  \\\n",
       "4         -991.893433       -1218.838939        -1050.614844   \n",
       "3         -987.532266       -1225.624493        -1044.337627   \n",
       "2         -986.460244       -1227.918504        -1043.342085   \n",
       "1         -986.367274       -1228.252404        -1043.270632   \n",
       "0         -986.365602       -1228.298099        -1043.269460   \n",
       "\n",
       "   split2_test_score  split2_train_score  std_fit_time  std_score_time  \\\n",
       "4       -1218.946772        -1060.571579      0.543446        0.011721   \n",
       "3       -1222.380334        -1055.035275      0.464131        0.037876   \n",
       "2       -1223.389510        -1053.984491      0.608912        0.030338   \n",
       "1       -1223.915183        -1053.894094      1.325366        0.005307   \n",
       "0       -1224.007612        -1053.892513      1.121083        0.006484   \n",
       "\n",
       "   std_test_score  std_train_score  \n",
       "4      283.207988        30.302234  \n",
       "3      288.252508        29.623461  \n",
       "2      291.219226        29.642928  \n",
       "1      292.253777        29.647412  \n",
       "0      292.394917        29.647526  "
      ]
     },
     "execution_count": 7,
     "metadata": {},
     "output_type": "execute_result"
    }
   ],
   "source": [
    "cv_results = pd.DataFrame(regr_pipe.named_steps['regr_cv'].cv_results_)\n",
    "cv_results.sort_values(by='rank_test_score')"
   ]
  },
  {
   "cell_type": "code",
   "execution_count": 8,
   "metadata": {},
   "outputs": [
    {
     "data": {
      "image/png": "[encoded data removed]",
      "text/plain": [
       "<matplotlib.figure.Figure at 0x168e23204e0>"
      ]
     },
     "metadata": {},
     "output_type": "display_data"
    }
   ],
   "source": [
    "plt.figure(figsize=(15, 5))\n",
    "plt.plot(cv_results['param_alpha'], -cv_results['mean_test_score'], 'ro')\n",
    "plt.title('CV mean squared error')\n",
    "plt.show()"
   ]
  }
 ],
 "metadata": {
  "kernelspec": {
   "display_name": "TimeSeriesForecastingTutorial local",
   "language": "python",
   "name": "timeseriesforecastingtutorial_local"
  },
  "language_info": {
   "codemirror_mode": {
    "name": "ipython",
    "version": 3
   },
   "file_extension": ".py",
   "mimetype": "text/x-python",
   "name": "python",
   "nbconvert_exporter": "python",
   "pygments_lexer": "ipython3",
   "version": "3.5.2"
  }
 },
 "nbformat": 4,
 "nbformat_minor": 2
}

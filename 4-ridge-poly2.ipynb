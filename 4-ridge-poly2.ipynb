{
 "cells": [
  {
   "cell_type": "markdown",
   "metadata": {},
   "source": [
    "# Ridge regression with polynomial features of degree 2\n",
    "**Important**: Change the kernel to *PROJECT_NAME local*. You can do this from the *Kernel* menu under *Change kernel*."
   ]
  },
  {
   "cell_type": "code",
   "execution_count": 1,
   "metadata": {},
   "outputs": [],
   "source": [
    "%matplotlib inline\n",
    "import pandas as pd\n",
    "import numpy as np\n",
    "import matplotlib.pyplot as plt\n",
    "from sklearn.pipeline import Pipeline\n",
    "from sklearn.preprocessing import OneHotEncoder\n",
    "from sklearn.linear_model import Ridge\n",
    "from sklearn.metrics import mean_squared_error\n",
    "from sklearn.model_selection import TimeSeriesSplit\n",
    "from sklearn.model_selection import RandomizedSearchCV\n",
    "from sklearn.preprocessing import PolynomialFeatures\n",
    "import pickle\n",
    "import os\n",
    "import scipy.stats as st"
   ]
  },
  {
   "cell_type": "code",
   "execution_count": 2,
   "metadata": {},
   "outputs": [],
   "source": [
    "model_name = \"ridge_poly2\"\n",
    "aml_dir = os.environ['AZUREML_NATIVE_SHARE_DIRECTORY']\n",
    "train = pd.read_csv(os.path.join(aml_dir, 'nyc_demand_train.csv'), parse_dates=['timeStamp'])"
   ]
  },
  {
   "cell_type": "markdown",
   "metadata": {},
   "source": [
    "Create model pipeline:\n",
    "- one-hot encode categorical features.\n",
    "- create polynomial features of degree 2. This means that for each pair of features $(x_1, x_2)$, the output features are $(x_1, x_2, x_1^2, x_1x_2, x_2^2)$\n",
    "- randomized parameter search with cross validation to find optimal values for the alpha parameter\n",
    "\n",
    "Note - to limit the training time, the number of iterations for the randomized search has been set to 20. This should train in about 3 minutes. increasing the number of iterations will increase the likelihood of finding the optimum solution but also increase training times. "
   ]
  },
  {
   "cell_type": "code",
   "execution_count": 3,
   "metadata": {},
   "outputs": [],
   "source": [
    "X = train.drop(['demand', 'timeStamp'], axis=1)"
   ]
  },
  {
   "cell_type": "code",
   "execution_count": 4,
   "metadata": {},
   "outputs": [],
   "source": [
    "cat_cols = ['hour', 'month', 'dayofweek']\n",
    "cat_cols_idx = [X.columns.get_loc(c) for c in X.columns if c in cat_cols]\n",
    "onehot = OneHotEncoder(categorical_features=cat_cols_idx, sparse=False)\n",
    "regr = Ridge(fit_intercept=False)\n",
    "poly = PolynomialFeatures(2)\n",
    "tscv = TimeSeriesSplit(n_splits=3)"
   ]
  },
  {
   "cell_type": "code",
   "execution_count": 17,
   "metadata": {},
   "outputs": [
    {
     "name": "stdout",
     "output_type": "stream",
     "text": [
      "Fitting 3 folds for each of 20 candidates, totalling 60 fits\n"
     ]
    },
    {
     "name": "stderr",
     "output_type": "stream",
     "text": [
      "[Parallel(n_jobs=-1)]: Done  33 tasks      | elapsed:  1.4min\n",
      "[Parallel(n_jobs=-1)]: Done  60 out of  60 | elapsed:  2.4min finished\n"
     ]
    },
    {
     "data": {
      "text/plain": [
       "Pipeline(memory=None,\n",
       "     steps=[('onehot', OneHotEncoder(categorical_features=[2, 3, 4], dtype=<class 'numpy.float64'>,\n",
       "       handle_unknown='error', n_values='auto', sparse=False)), ('poly', PolynomialFeatures(degree=2, include_bias=True, interaction_only=False)), ('regr_cv', RandomizedSearchCV(cv=TimeSeriesSplit(max_trai...it=True,\n",
       "          return_train_score=True, scoring='neg_mean_squared_error',\n",
       "          verbose=2))])"
      ]
     },
     "execution_count": 17,
     "metadata": {},
     "output_type": "execute_result"
    }
   ],
   "source": [
    "param_dist = {'alpha': st.uniform(1e-4, 5.0)}\n",
    "regr_cv = RandomizedSearchCV(estimator=regr,\n",
    "                            param_distributions=param_dist,\n",
    "                            n_iter=20,\n",
    "                            scoring='neg_mean_squared_error',\n",
    "                            iid=False,\n",
    "                            cv=tscv,\n",
    "                            verbose=2,\n",
    "                            n_jobs=-1)\n",
    "regr_pipe = Pipeline([('onehot', onehot), ('poly', poly), ('regr_cv', regr_cv)])\n",
    "regr_pipe.fit(X, y=train['demand'])"
   ]
  },
  {
   "cell_type": "code",
   "execution_count": 21,
   "metadata": {},
   "outputs": [],
   "source": [
    "with open(os.path.join(aml_dir, model_name + '.pkl'), 'wb') as f:\n",
    "    pickle.dump(regr_pipe, f)"
   ]
  },
  {
   "cell_type": "markdown",
   "metadata": {},
   "source": [
    "Cross validation results"
   ]
  },
  {
   "cell_type": "code",
   "execution_count": 22,
   "metadata": {},
   "outputs": [
    {
     "data": {
      "text/html": [
       "<div>\n",
       "<style>\n",
       "    .dataframe thead tr:only-child th {\n",
       "        text-align: right;\n",
       "    }\n",
       "\n",
       "    .dataframe thead th {\n",
       "        text-align: left;\n",
       "    }\n",
       "\n",
       "    .dataframe tbody tr th {\n",
       "        vertical-align: top;\n",
       "    }\n",
       "</style>\n",
       "<table border=\"1\" class=\"dataframe\">\n",
       "  <thead>\n",
       "    <tr style=\"text-align: right;\">\n",
       "      <th></th>\n",
       "      <th>mean_fit_time</th>\n",
       "      <th>mean_score_time</th>\n",
       "      <th>mean_test_score</th>\n",
       "      <th>mean_train_score</th>\n",
       "      <th>param_alpha</th>\n",
       "      <th>params</th>\n",
       "      <th>rank_test_score</th>\n",
       "      <th>split0_test_score</th>\n",
       "      <th>split0_train_score</th>\n",
       "      <th>split1_test_score</th>\n",
       "      <th>split1_train_score</th>\n",
       "      <th>split2_test_score</th>\n",
       "      <th>split2_train_score</th>\n",
       "      <th>std_fit_time</th>\n",
       "      <th>std_score_time</th>\n",
       "      <th>std_test_score</th>\n",
       "      <th>std_train_score</th>\n",
       "    </tr>\n",
       "  </thead>\n",
       "  <tbody>\n",
       "    <tr>\n",
       "      <th>11</th>\n",
       "      <td>8.849869</td>\n",
       "      <td>0.060166</td>\n",
       "      <td>-1239.853507</td>\n",
       "      <td>-1044.918247</td>\n",
       "      <td>0.967198</td>\n",
       "      <td>{'alpha': 0.967197577009}</td>\n",
       "      <td>1</td>\n",
       "      <td>-1373.529873</td>\n",
       "      <td>-1013.126827</td>\n",
       "      <td>-1078.334000</td>\n",
       "      <td>-1077.359956</td>\n",
       "      <td>-1267.696649</td>\n",
       "      <td>-1044.267958</td>\n",
       "      <td>1.131121</td>\n",
       "      <td>0.009999</td>\n",
       "      <td>122.110827</td>\n",
       "      <td>26.227096</td>\n",
       "    </tr>\n",
       "    <tr>\n",
       "      <th>12</th>\n",
       "      <td>8.267557</td>\n",
       "      <td>0.082501</td>\n",
       "      <td>-1239.920211</td>\n",
       "      <td>-1043.850763</td>\n",
       "      <td>0.844203</td>\n",
       "      <td>{'alpha': 0.844203103372}</td>\n",
       "      <td>2</td>\n",
       "      <td>-1373.570111</td>\n",
       "      <td>-1011.286617</td>\n",
       "      <td>-1078.285115</td>\n",
       "      <td>-1076.547934</td>\n",
       "      <td>-1267.905406</td>\n",
       "      <td>-1043.717739</td>\n",
       "      <td>2.048888</td>\n",
       "      <td>0.034032</td>\n",
       "      <td>122.162966</td>\n",
       "      <td>26.642987</td>\n",
       "    </tr>\n",
       "    <tr>\n",
       "      <th>19</th>\n",
       "      <td>6.312211</td>\n",
       "      <td>0.067837</td>\n",
       "      <td>-1240.576119</td>\n",
       "      <td>-1049.622015</td>\n",
       "      <td>1.5449</td>\n",
       "      <td>{'alpha': 1.54490337629}</td>\n",
       "      <td>3</td>\n",
       "      <td>-1375.726300</td>\n",
       "      <td>-1021.417679</td>\n",
       "      <td>-1078.741323</td>\n",
       "      <td>-1080.824880</td>\n",
       "      <td>-1267.260735</td>\n",
       "      <td>-1046.623485</td>\n",
       "      <td>0.682227</td>\n",
       "      <td>0.019686</td>\n",
       "      <td>122.703085</td>\n",
       "      <td>24.345394</td>\n",
       "    </tr>\n",
       "    <tr>\n",
       "      <th>5</th>\n",
       "      <td>8.170029</td>\n",
       "      <td>0.069166</td>\n",
       "      <td>-1240.580425</td>\n",
       "      <td>-1041.058267</td>\n",
       "      <td>0.546113</td>\n",
       "      <td>{'alpha': 0.54611255133}</td>\n",
       "      <td>4</td>\n",
       "      <td>-1374.766486</td>\n",
       "      <td>-1006.562817</td>\n",
       "      <td>-1078.273445</td>\n",
       "      <td>-1074.345379</td>\n",
       "      <td>-1268.701344</td>\n",
       "      <td>-1042.266607</td>\n",
       "      <td>0.807044</td>\n",
       "      <td>0.026478</td>\n",
       "      <td>122.665182</td>\n",
       "      <td>27.685303</td>\n",
       "    </tr>\n",
       "    <tr>\n",
       "      <th>6</th>\n",
       "      <td>8.119887</td>\n",
       "      <td>0.071669</td>\n",
       "      <td>-1241.075849</td>\n",
       "      <td>-1051.081044</td>\n",
       "      <td>1.73142</td>\n",
       "      <td>{'alpha': 1.73141689807}</td>\n",
       "      <td>5</td>\n",
       "      <td>-1377.047761</td>\n",
       "      <td>-1024.029246</td>\n",
       "      <td>-1078.928179</td>\n",
       "      <td>-1081.881298</td>\n",
       "      <td>-1267.251607</td>\n",
       "      <td>-1047.332589</td>\n",
       "      <td>2.152161</td>\n",
       "      <td>0.010680</td>\n",
       "      <td>123.106185</td>\n",
       "      <td>23.766267</td>\n",
       "    </tr>\n",
       "  </tbody>\n",
       "</table>\n",
       "</div>"
      ],
      "text/plain": [
       "    mean_fit_time  mean_score_time  mean_test_score  mean_train_score  \\\n",
       "11       8.849869         0.060166     -1239.853507      -1044.918247   \n",
       "12       8.267557         0.082501     -1239.920211      -1043.850763   \n",
       "19       6.312211         0.067837     -1240.576119      -1049.622015   \n",
       "5        8.170029         0.069166     -1240.580425      -1041.058267   \n",
       "6        8.119887         0.071669     -1241.075849      -1051.081044   \n",
       "\n",
       "   param_alpha                     params  rank_test_score  split0_test_score  \\\n",
       "11    0.967198  {'alpha': 0.967197577009}                1       -1373.529873   \n",
       "12    0.844203  {'alpha': 0.844203103372}                2       -1373.570111   \n",
       "19      1.5449   {'alpha': 1.54490337629}                3       -1375.726300   \n",
       "5     0.546113   {'alpha': 0.54611255133}                4       -1374.766486   \n",
       "6      1.73142   {'alpha': 1.73141689807}                5       -1377.047761   \n",
       "\n",
       "    split0_train_score  split1_test_score  split1_train_score  \\\n",
       "11        -1013.126827       -1078.334000        -1077.359956   \n",
       "12        -1011.286617       -1078.285115        -1076.547934   \n",
       "19        -1021.417679       -1078.741323        -1080.824880   \n",
       "5         -1006.562817       -1078.273445        -1074.345379   \n",
       "6         -1024.029246       -1078.928179        -1081.881298   \n",
       "\n",
       "    split2_test_score  split2_train_score  std_fit_time  std_score_time  \\\n",
       "11       -1267.696649        -1044.267958      1.131121        0.009999   \n",
       "12       -1267.905406        -1043.717739      2.048888        0.034032   \n",
       "19       -1267.260735        -1046.623485      0.682227        0.019686   \n",
       "5        -1268.701344        -1042.266607      0.807044        0.026478   \n",
       "6        -1267.251607        -1047.332589      2.152161        0.010680   \n",
       "\n",
       "    std_test_score  std_train_score  \n",
       "11      122.110827        26.227096  \n",
       "12      122.162966        26.642987  \n",
       "19      122.703085        24.345394  \n",
       "5       122.665182        27.685303  \n",
       "6       123.106185        23.766267  "
      ]
     },
     "execution_count": 22,
     "metadata": {},
     "output_type": "execute_result"
    }
   ],
   "source": [
    "cv_results = pd.DataFrame(regr_pipe.named_steps['regr_cv'].cv_results_)\n",
    "cv_results.sort_values(by='rank_test_score').head()"
   ]
  },
  {
   "cell_type": "code",
   "execution_count": 25,
   "metadata": {},
   "outputs": [
    {
     "data": {
      "image/png": "[encoded data removed]",
      "text/plain": [
       "<matplotlib.figure.Figure at 0x12b80170668>"
      ]
     },
     "metadata": {},
     "output_type": "display_data"
    }
   ],
   "source": [
    "plt.plot(cv_results['param_alpha'], cv_results['mean_test_score'], 'ro', markersize=1)\n",
    "plt.title('CV negative mean squared error')\n",
    "plt.show()"
   ]
  }
 ],
 "metadata": {
  "kernelspec": {
   "display_name": "TimeSeriesForecastingTutorial local",
   "language": "python",
   "name": "timeseriesforecastingtutorial_local"
  },
  "language_info": {
   "codemirror_mode": {
    "name": "ipython",
    "version": 3
   },
   "file_extension": ".py",
   "mimetype": "text/x-python",
   "name": "python",
   "nbconvert_exporter": "python",
   "pygments_lexer": "ipython3",
   "version": "3.5.2"
  }
 },
 "nbformat": 4,
 "nbformat_minor": 2
}

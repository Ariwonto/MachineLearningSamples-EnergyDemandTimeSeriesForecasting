{
 "cells": [
  {
   "cell_type": "markdown",
   "metadata": {},
   "source": [
    "# Ridge regression with polynomial features of degree 2\n",
    "**Important**: Change the kernel to *PROJECT_NAME local*. You can do this from the *Kernel* menu under *Change kernel*."
   ]
  },
  {
   "cell_type": "code",
   "execution_count": null,
   "metadata": {},
   "outputs": [],
   "source": [
    "%autosave 0\n",
    "%matplotlib inline\n",
    "import pandas as pd\n",
    "import numpy as np\n",
    "import matplotlib.pyplot as plt\n",
    "from sklearn.pipeline import Pipeline\n",
    "from sklearn.preprocessing import OneHotEncoder\n",
    "from sklearn.linear_model import Ridge\n",
    "from sklearn.metrics import mean_squared_error\n",
    "from sklearn.model_selection import TimeSeriesSplit\n",
    "from sklearn.model_selection import RandomizedSearchCV\n",
    "from sklearn.preprocessing import PolynomialFeatures\n",
    "import pickle\n",
    "import os\n",
    "import scipy.stats as st"
   ]
  },
  {
   "cell_type": "code",
   "execution_count": null,
   "metadata": {},
   "outputs": [],
   "source": [
    "from azureml.logging import get_azureml_logger\n",
    "run_logger = get_azureml_logger()\n",
    "run_logger.log(“amlrealworld.timeseries.ridge-poly”,”true”)"
   ]
  },
  {
   "cell_type": "code",
   "execution_count": 2,
   "metadata": {},
   "outputs": [],
   "source": [
    "model_name = \"ridge_poly2\"\n",
    "aml_dir = os.environ['AZUREML_NATIVE_SHARE_DIRECTORY']\n",
    "train = pd.read_csv(os.path.join(aml_dir, 'nyc_demand_train.csv'), parse_dates=['timeStamp'])"
   ]
  },
  {
   "cell_type": "markdown",
   "metadata": {},
   "source": [
    "Create model pipeline:\n",
    "- one-hot encode categorical features.\n",
    "- create polynomial features of degree 2. This means that for each pair of features $(x_1, x_2)$, the output features are $(x_1, x_2, x_1^2, x_1x_2, x_2^2)$\n",
    "- randomized parameter search with cross validation to find optimal values for the alpha parameter\n",
    "\n",
    "Note - to limit the training time, the number of iterations for the randomized search has been set to 20. This should train in about 3 minutes. increasing the number of iterations will increase the likelihood of finding the optimum solution but also increase training times. "
   ]
  },
  {
   "cell_type": "code",
   "execution_count": 3,
   "metadata": {},
   "outputs": [],
   "source": [
    "X = train.drop(['demand', 'timeStamp'], axis=1)"
   ]
  },
  {
   "cell_type": "code",
   "execution_count": 4,
   "metadata": {},
   "outputs": [],
   "source": [
    "cat_cols = ['hour', 'month', 'dayofweek']\n",
    "cat_cols_idx = [X.columns.get_loc(c) for c in X.columns if c in cat_cols]\n",
    "onehot = OneHotEncoder(categorical_features=cat_cols_idx, sparse=False)\n",
    "regr = Ridge(fit_intercept=False)\n",
    "poly = PolynomialFeatures(2)\n",
    "tscv = TimeSeriesSplit(n_splits=3)"
   ]
  },
  {
   "cell_type": "code",
   "execution_count": 5,
   "metadata": {},
   "outputs": [
    {
     "name": "stdout",
     "output_type": "stream",
     "text": [
      "Fitting 3 folds for each of 20 candidates, totalling 60 fits\n"
     ]
    },
    {
     "name": "stderr",
     "output_type": "stream",
     "text": [
      "[Parallel(n_jobs=-1)]: Done  33 tasks      | elapsed:  1.2min\n",
      "[Parallel(n_jobs=-1)]: Done  60 out of  60 | elapsed:  1.9min finished\n"
     ]
    },
    {
     "data": {
      "text/plain": [
       "Pipeline(memory=None,\n",
       "     steps=[('onehot', OneHotEncoder(categorical_features=[2, 3, 4], dtype=<class 'numpy.float64'>,\n",
       "       handle_unknown='error', n_values='auto', sparse=False)), ('poly', PolynomialFeatures(degree=2, include_bias=True, interaction_only=False)), ('regr_cv', RandomizedSearchCV(cv=TimeSeriesSplit(max_trai...it=True,\n",
       "          return_train_score=True, scoring='neg_mean_squared_error',\n",
       "          verbose=2))])"
      ]
     },
     "execution_count": 5,
     "metadata": {},
     "output_type": "execute_result"
    }
   ],
   "source": [
    "param_dist = {'alpha': st.uniform(1e-4, 5.0)}\n",
    "regr_cv = RandomizedSearchCV(estimator=regr,\n",
    "                            param_distributions=param_dist,\n",
    "                            n_iter=20,\n",
    "                            scoring='neg_mean_squared_error',\n",
    "                            iid=False,\n",
    "                            cv=tscv,\n",
    "                            verbose=2,\n",
    "                            n_jobs=-1)\n",
    "regr_pipe = Pipeline([('onehot', onehot), ('poly', poly), ('regr_cv', regr_cv)])\n",
    "regr_pipe.fit(X, y=train['demand'])"
   ]
  },
  {
   "cell_type": "code",
   "execution_count": 6,
   "metadata": {},
   "outputs": [],
   "source": [
    "with open(os.path.join(aml_dir, model_name + '.pkl'), 'wb') as f:\n",
    "    pickle.dump(regr_pipe, f)"
   ]
  },
  {
   "cell_type": "markdown",
   "metadata": {},
   "source": [
    "Cross validation results"
   ]
  },
  {
   "cell_type": "code",
   "execution_count": 7,
   "metadata": {},
   "outputs": [
    {
     "data": {
      "text/html": [
       "<div>\n",
       "<style>\n",
       "    .dataframe thead tr:only-child th {\n",
       "        text-align: right;\n",
       "    }\n",
       "\n",
       "    .dataframe thead th {\n",
       "        text-align: left;\n",
       "    }\n",
       "\n",
       "    .dataframe tbody tr th {\n",
       "        vertical-align: top;\n",
       "    }\n",
       "</style>\n",
       "<table border=\"1\" class=\"dataframe\">\n",
       "  <thead>\n",
       "    <tr style=\"text-align: right;\">\n",
       "      <th></th>\n",
       "      <th>mean_fit_time</th>\n",
       "      <th>mean_score_time</th>\n",
       "      <th>mean_test_score</th>\n",
       "      <th>mean_train_score</th>\n",
       "      <th>param_alpha</th>\n",
       "      <th>params</th>\n",
       "      <th>rank_test_score</th>\n",
       "      <th>split0_test_score</th>\n",
       "      <th>split0_train_score</th>\n",
       "      <th>split1_test_score</th>\n",
       "      <th>split1_train_score</th>\n",
       "      <th>split2_test_score</th>\n",
       "      <th>split2_train_score</th>\n",
       "      <th>std_fit_time</th>\n",
       "      <th>std_score_time</th>\n",
       "      <th>std_test_score</th>\n",
       "      <th>std_train_score</th>\n",
       "    </tr>\n",
       "  </thead>\n",
       "  <tbody>\n",
       "    <tr>\n",
       "      <th>6</th>\n",
       "      <td>6.967113</td>\n",
       "      <td>0.054570</td>\n",
       "      <td>-1239.941008</td>\n",
       "      <td>-1043.671720</td>\n",
       "      <td>0.823993</td>\n",
       "      <td>{'alpha': 0.823992609583}</td>\n",
       "      <td>1</td>\n",
       "      <td>-1373.599007</td>\n",
       "      <td>-1010.979826</td>\n",
       "      <td>-1078.278786</td>\n",
       "      <td>-1076.410326</td>\n",
       "      <td>-1267.945231</td>\n",
       "      <td>-1043.625009</td>\n",
       "      <td>2.063244</td>\n",
       "      <td>0.009279</td>\n",
       "      <td>122.179337</td>\n",
       "      <td>26.711910</td>\n",
       "    </tr>\n",
       "    <tr>\n",
       "      <th>18</th>\n",
       "      <td>6.053257</td>\n",
       "      <td>0.046879</td>\n",
       "      <td>-1239.987894</td>\n",
       "      <td>-1043.334590</td>\n",
       "      <td>0.786296</td>\n",
       "      <td>{'alpha': 0.786295596025}</td>\n",
       "      <td>2</td>\n",
       "      <td>-1373.671040</td>\n",
       "      <td>-1010.403637</td>\n",
       "      <td>-1078.268489</td>\n",
       "      <td>-1076.150007</td>\n",
       "      <td>-1268.024152</td>\n",
       "      <td>-1043.450127</td>\n",
       "      <td>0.808095</td>\n",
       "      <td>0.000005</td>\n",
       "      <td>122.216176</td>\n",
       "      <td>26.840967</td>\n",
       "    </tr>\n",
       "    <tr>\n",
       "      <th>19</th>\n",
       "      <td>4.720967</td>\n",
       "      <td>0.040608</td>\n",
       "      <td>-1240.090268</td>\n",
       "      <td>-1042.766007</td>\n",
       "      <td>0.723847</td>\n",
       "      <td>{'alpha': 0.72384706818}</td>\n",
       "      <td>3</td>\n",
       "      <td>-1373.845160</td>\n",
       "      <td>-1009.436284</td>\n",
       "      <td>-1078.256388</td>\n",
       "      <td>-1075.707183</td>\n",
       "      <td>-1268.169257</td>\n",
       "      <td>-1043.154553</td>\n",
       "      <td>0.249660</td>\n",
       "      <td>0.006745</td>\n",
       "      <td>122.296096</td>\n",
       "      <td>27.056376</td>\n",
       "    </tr>\n",
       "    <tr>\n",
       "      <th>1</th>\n",
       "      <td>6.456279</td>\n",
       "      <td>0.061546</td>\n",
       "      <td>-1240.333833</td>\n",
       "      <td>-1041.797919</td>\n",
       "      <td>0.621137</td>\n",
       "      <td>{'alpha': 0.621136886756}</td>\n",
       "      <td>4</td>\n",
       "      <td>-1374.294583</td>\n",
       "      <td>-1007.801768</td>\n",
       "      <td>-1078.254279</td>\n",
       "      <td>-1074.941341</td>\n",
       "      <td>-1268.452635</td>\n",
       "      <td>-1042.650646</td>\n",
       "      <td>0.776875</td>\n",
       "      <td>0.016696</td>\n",
       "      <td>122.482558</td>\n",
       "      <td>27.416247</td>\n",
       "    </tr>\n",
       "    <tr>\n",
       "      <th>9</th>\n",
       "      <td>5.895548</td>\n",
       "      <td>0.062501</td>\n",
       "      <td>-1240.695363</td>\n",
       "      <td>-1050.001444</td>\n",
       "      <td>1.59318</td>\n",
       "      <td>{'alpha': 1.59318117995}</td>\n",
       "      <td>5</td>\n",
       "      <td>-1376.045406</td>\n",
       "      <td>-1022.095643</td>\n",
       "      <td>-1078.787157</td>\n",
       "      <td>-1081.099964</td>\n",
       "      <td>-1267.253526</td>\n",
       "      <td>-1046.808724</td>\n",
       "      <td>1.685731</td>\n",
       "      <td>0.012756</td>\n",
       "      <td>122.799616</td>\n",
       "      <td>24.193974</td>\n",
       "    </tr>\n",
       "  </tbody>\n",
       "</table>\n",
       "</div>"
      ],
      "text/plain": [
       "    mean_fit_time  mean_score_time  mean_test_score  mean_train_score  \\\n",
       "6        6.967113         0.054570     -1239.941008      -1043.671720   \n",
       "18       6.053257         0.046879     -1239.987894      -1043.334590   \n",
       "19       4.720967         0.040608     -1240.090268      -1042.766007   \n",
       "1        6.456279         0.061546     -1240.333833      -1041.797919   \n",
       "9        5.895548         0.062501     -1240.695363      -1050.001444   \n",
       "\n",
       "   param_alpha                     params  rank_test_score  split0_test_score  \\\n",
       "6     0.823993  {'alpha': 0.823992609583}                1       -1373.599007   \n",
       "18    0.786296  {'alpha': 0.786295596025}                2       -1373.671040   \n",
       "19    0.723847   {'alpha': 0.72384706818}                3       -1373.845160   \n",
       "1     0.621137  {'alpha': 0.621136886756}                4       -1374.294583   \n",
       "9      1.59318   {'alpha': 1.59318117995}                5       -1376.045406   \n",
       "\n",
       "    split0_train_score  split1_test_score  split1_train_score  \\\n",
       "6         -1010.979826       -1078.278786        -1076.410326   \n",
       "18        -1010.403637       -1078.268489        -1076.150007   \n",
       "19        -1009.436284       -1078.256388        -1075.707183   \n",
       "1         -1007.801768       -1078.254279        -1074.941341   \n",
       "9         -1022.095643       -1078.787157        -1081.099964   \n",
       "\n",
       "    split2_test_score  split2_train_score  std_fit_time  std_score_time  \\\n",
       "6        -1267.945231        -1043.625009      2.063244        0.009279   \n",
       "18       -1268.024152        -1043.450127      0.808095        0.000005   \n",
       "19       -1268.169257        -1043.154553      0.249660        0.006745   \n",
       "1        -1268.452635        -1042.650646      0.776875        0.016696   \n",
       "9        -1267.253526        -1046.808724      1.685731        0.012756   \n",
       "\n",
       "    std_test_score  std_train_score  \n",
       "6       122.179337        26.711910  \n",
       "18      122.216176        26.840967  \n",
       "19      122.296096        27.056376  \n",
       "1       122.482558        27.416247  \n",
       "9       122.799616        24.193974  "
      ]
     },
     "execution_count": 7,
     "metadata": {},
     "output_type": "execute_result"
    }
   ],
   "source": [
    "cv_results = pd.DataFrame(regr_pipe.named_steps['regr_cv'].cv_results_)\n",
    "cv_results.sort_values(by='rank_test_score').head()"
   ]
  },
  {
   "cell_type": "code",
   "execution_count": 8,
   "metadata": {},
   "outputs": [
    {
     "data": {
      "image/png": "[encoded data removed]",
      "text/plain": [
       "<matplotlib.figure.Figure at 0x2bc6a9e52e8>"
      ]
     },
     "metadata": {},
     "output_type": "display_data"
    }
   ],
   "source": [
    "plt.plot(cv_results['param_alpha'], cv_results['mean_test_score'], 'ro', markersize=1)\n",
    "plt.title('CV negative mean squared error')\n",
    "plt.show()"
   ]
  }
 ],
 "metadata": {
  "kernelspec": {
   "display_name": "TimeSeriesForecastingTutorial local",
   "language": "python",
   "name": "timeseriesforecastingtutorial_local"
  },
  "language_info": {
   "codemirror_mode": {
    "name": "ipython",
    "version": 3
   },
   "file_extension": ".py",
   "mimetype": "text/x-python",
   "name": "python",
   "nbconvert_exporter": "python",
   "pygments_lexer": "ipython3",
   "version": "3.5.2"
  }
 },
 "nbformat": 4,
 "nbformat_minor": 2
}

{
 "cells": [
  {
   "cell_type": "markdown",
   "metadata": {},
   "source": [
    "# Ridge regression with polynomial features of degree 2\n",
    "**Important**: Change the kernel to *PROJECT_NAME local*. You can do this from the *Kernel* menu under *Change kernel*."
   ]
  },
  {
   "cell_type": "code",
   "execution_count": null,
   "metadata": {},
   "outputs": [],
   "source": [
    "%matplotlib inline\n",
    "import pandas as pd\n",
    "import numpy as np\n",
    "import matplotlib.pyplot as plt\n",
    "from sklearn.pipeline import Pipeline\n",
    "from sklearn.preprocessing import OneHotEncoder\n",
    "from sklearn.linear_model import Ridge\n",
    "from sklearn.metrics import mean_squared_error\n",
    "from sklearn.model_selection import TimeSeriesSplit\n",
    "from sklearn.model_selection import RandomizedSearchCV\n",
    "from sklearn.preprocessing import PolynomialFeatures\n",
    "import pickle\n",
    "import os\n",
    "import scipy.stats as st"
   ]
  },
  {
   "cell_type": "code",
   "execution_count": null,
   "metadata": {},
   "outputs": [],
   "source": [
    "from azureml.logging import get_azureml_logger\n",
    "run_logger = get_azureml_logger()\n",
    "run_logger.log('amlrealworld.timeseries.ridge-poly','true')"
   ]
  },
  {
   "cell_type": "code",
   "execution_count": 3,
   "metadata": {},
   "outputs": [],
   "source": [
    "model_name = \"ridge_poly2\"\n",
    "aml_dir = os.environ['AZUREML_NATIVE_SHARE_DIRECTORY']\n",
    "train = pd.read_csv(os.path.join(aml_dir, 'nyc_demand_train.csv'), parse_dates=['timeStamp'])"
   ]
  },
  {
   "cell_type": "markdown",
   "metadata": {},
   "source": [
    "Create model pipeline:\n",
    "- one-hot encode categorical features.\n",
    "- create polynomial features of degree 2. This means that for each pair of features $(x_1, x_2)$, the output features are $(x_1, x_2, x_1^2, x_1x_2, x_2^2)$\n",
    "- randomized parameter search with cross validation to find optimal values for the alpha parameter\n",
    "\n",
    "Note - to limit the training time, the number of iterations for the randomized search has been set to 20. This should train in about 3 minutes. increasing the number of iterations will increase the likelihood of finding the optimum solution but also increase training times. "
   ]
  },
  {
   "cell_type": "code",
   "execution_count": 4,
   "metadata": {},
   "outputs": [],
   "source": [
    "X = train.drop(['demand', 'timeStamp'], axis=1)"
   ]
  },
  {
   "cell_type": "code",
   "execution_count": 5,
   "metadata": {},
   "outputs": [],
   "source": [
    "cat_cols = ['hour', 'month', 'dayofweek']\n",
    "cat_cols_idx = [X.columns.get_loc(c) for c in X.columns if c in cat_cols]\n",
    "onehot = OneHotEncoder(categorical_features=cat_cols_idx, sparse=False)\n",
    "regr = Ridge(fit_intercept=False)\n",
    "poly = PolynomialFeatures(2)\n",
    "tscv = TimeSeriesSplit(n_splits=3)"
   ]
  },
  {
   "cell_type": "code",
   "execution_count": 6,
   "metadata": {},
   "outputs": [
    {
     "name": "stdout",
     "output_type": "stream",
     "text": [
      "Fitting 3 folds for each of 20 candidates, totalling 60 fits\n"
     ]
    },
    {
     "name": "stderr",
     "output_type": "stream",
     "text": [
      "[Parallel(n_jobs=-1)]: Done  33 tasks      | elapsed:   57.6s\n",
      "[Parallel(n_jobs=-1)]: Done  60 out of  60 | elapsed:  1.8min finished\n"
     ]
    },
    {
     "data": {
      "text/plain": [
       "Pipeline(steps=[('onehot', OneHotEncoder(categorical_features=[2, 3, 4], dtype=<class 'numpy.float64'>,\n",
       "       handle_unknown='error', n_values='auto', sparse=False)), ('poly', PolynomialFeatures(degree=2, include_bias=True, interaction_only=False)), ('regr_cv', RandomizedSearchCV(cv=TimeSeriesSplit(n_splits...it=True,\n",
       "          return_train_score=True, scoring='neg_mean_squared_error',\n",
       "          verbose=2))])"
      ]
     },
     "execution_count": 6,
     "metadata": {},
     "output_type": "execute_result"
    }
   ],
   "source": [
    "param_dist = {'alpha': st.uniform(1e-4, 5.0)}\n",
    "regr_cv = RandomizedSearchCV(estimator=regr,\n",
    "                            param_distributions=param_dist,\n",
    "                            n_iter=20,\n",
    "                            scoring='neg_mean_squared_error',\n",
    "                            iid=False,\n",
    "                            cv=tscv,\n",
    "                            verbose=2,\n",
    "                            n_jobs=-1)\n",
    "regr_pipe = Pipeline([('onehot', onehot), ('poly', poly), ('regr_cv', regr_cv)])\n",
    "regr_pipe.fit(X, y=train['demand'])"
   ]
  },
  {
   "cell_type": "code",
   "execution_count": 7,
   "metadata": {},
   "outputs": [],
   "source": [
    "with open(os.path.join(aml_dir, model_name + '.pkl'), 'wb') as f:\n",
    "    pickle.dump(regr_pipe, f)"
   ]
  },
  {
   "cell_type": "markdown",
   "metadata": {},
   "source": [
    "Cross validation results"
   ]
  },
  {
   "cell_type": "code",
   "execution_count": 8,
   "metadata": {},
   "outputs": [
    {
     "data": {
      "text/html": [
       "<div>\n",
       "<style scoped>\n",
       "    .dataframe tbody tr th:only-of-type {\n",
       "        vertical-align: middle;\n",
       "    }\n",
       "\n",
       "    .dataframe tbody tr th {\n",
       "        vertical-align: top;\n",
       "    }\n",
       "\n",
       "    .dataframe thead th {\n",
       "        text-align: right;\n",
       "    }\n",
       "</style>\n",
       "<table border=\"1\" class=\"dataframe\">\n",
       "  <thead>\n",
       "    <tr style=\"text-align: right;\">\n",
       "      <th></th>\n",
       "      <th>mean_fit_time</th>\n",
       "      <th>mean_score_time</th>\n",
       "      <th>mean_test_score</th>\n",
       "      <th>mean_train_score</th>\n",
       "      <th>param_alpha</th>\n",
       "      <th>params</th>\n",
       "      <th>rank_test_score</th>\n",
       "      <th>split0_test_score</th>\n",
       "      <th>split0_train_score</th>\n",
       "      <th>split1_test_score</th>\n",
       "      <th>split1_train_score</th>\n",
       "      <th>split2_test_score</th>\n",
       "      <th>split2_train_score</th>\n",
       "      <th>std_fit_time</th>\n",
       "      <th>std_score_time</th>\n",
       "      <th>std_test_score</th>\n",
       "      <th>std_train_score</th>\n",
       "    </tr>\n",
       "  </thead>\n",
       "  <tbody>\n",
       "    <tr>\n",
       "      <th>3</th>\n",
       "      <td>5.566205</td>\n",
       "      <td>0.055169</td>\n",
       "      <td>-1248.340799</td>\n",
       "      <td>-1049.203255</td>\n",
       "      <td>1.47168</td>\n",
       "      <td>{'alpha': 1.47167593681}</td>\n",
       "      <td>1</td>\n",
       "      <td>-1375.363645</td>\n",
       "      <td>-1020.576316</td>\n",
       "      <td>-1078.777783</td>\n",
       "      <td>-1080.560352</td>\n",
       "      <td>-1290.880968</td>\n",
       "      <td>-1046.473098</td>\n",
       "      <td>1.684181</td>\n",
       "      <td>0.006250</td>\n",
       "      <td>124.761220</td>\n",
       "      <td>24.564357</td>\n",
       "    </tr>\n",
       "    <tr>\n",
       "      <th>14</th>\n",
       "      <td>6.434544</td>\n",
       "      <td>0.075168</td>\n",
       "      <td>-1248.497834</td>\n",
       "      <td>-1049.756123</td>\n",
       "      <td>1.54166</td>\n",
       "      <td>{'alpha': 1.54166210236}</td>\n",
       "      <td>2</td>\n",
       "      <td>-1375.791197</td>\n",
       "      <td>-1021.562751</td>\n",
       "      <td>-1078.841152</td>\n",
       "      <td>-1080.961630</td>\n",
       "      <td>-1290.861154</td>\n",
       "      <td>-1046.743987</td>\n",
       "      <td>2.068280</td>\n",
       "      <td>0.018967</td>\n",
       "      <td>124.875459</td>\n",
       "      <td>24.342849</td>\n",
       "    </tr>\n",
       "    <tr>\n",
       "      <th>12</th>\n",
       "      <td>6.040374</td>\n",
       "      <td>0.062836</td>\n",
       "      <td>-1249.025435</td>\n",
       "      <td>-1040.058227</td>\n",
       "      <td>0.435558</td>\n",
       "      <td>{'alpha': 0.435558001169}</td>\n",
       "      <td>3</td>\n",
       "      <td>-1375.874522</td>\n",
       "      <td>-1004.815998</td>\n",
       "      <td>-1078.455770</td>\n",
       "      <td>-1073.551296</td>\n",
       "      <td>-1292.746012</td>\n",
       "      <td>-1041.807388</td>\n",
       "      <td>1.761688</td>\n",
       "      <td>0.003172</td>\n",
       "      <td>125.294573</td>\n",
       "      <td>28.088313</td>\n",
       "    </tr>\n",
       "    <tr>\n",
       "      <th>2</th>\n",
       "      <td>5.495538</td>\n",
       "      <td>0.058334</td>\n",
       "      <td>-1249.697691</td>\n",
       "      <td>-1052.917046</td>\n",
       "      <td>1.94805</td>\n",
       "      <td>{'alpha': 1.94805364999}</td>\n",
       "      <td>4</td>\n",
       "      <td>-1378.926229</td>\n",
       "      <td>-1027.234624</td>\n",
       "      <td>-1079.282461</td>\n",
       "      <td>-1083.246796</td>\n",
       "      <td>-1290.884382</td>\n",
       "      <td>-1048.269718</td>\n",
       "      <td>1.592447</td>\n",
       "      <td>0.006382</td>\n",
       "      <td>125.748040</td>\n",
       "      <td>23.101791</td>\n",
       "    </tr>\n",
       "    <tr>\n",
       "      <th>18</th>\n",
       "      <td>5.669536</td>\n",
       "      <td>0.057334</td>\n",
       "      <td>-1250.347488</td>\n",
       "      <td>-1054.273219</td>\n",
       "      <td>2.12472</td>\n",
       "      <td>{'alpha': 2.12472055851}</td>\n",
       "      <td>5</td>\n",
       "      <td>-1380.573672</td>\n",
       "      <td>-1029.677671</td>\n",
       "      <td>-1079.512717</td>\n",
       "      <td>-1084.226930</td>\n",
       "      <td>-1290.956075</td>\n",
       "      <td>-1048.915056</td>\n",
       "      <td>1.239390</td>\n",
       "      <td>0.007262</td>\n",
       "      <td>126.217320</td>\n",
       "      <td>22.589641</td>\n",
       "    </tr>\n",
       "  </tbody>\n",
       "</table>\n",
       "</div>"
      ],
      "text/plain": [
       "    mean_fit_time  mean_score_time  mean_test_score  mean_train_score  \\\n",
       "3        5.566205         0.055169     -1248.340799      -1049.203255   \n",
       "14       6.434544         0.075168     -1248.497834      -1049.756123   \n",
       "12       6.040374         0.062836     -1249.025435      -1040.058227   \n",
       "2        5.495538         0.058334     -1249.697691      -1052.917046   \n",
       "18       5.669536         0.057334     -1250.347488      -1054.273219   \n",
       "\n",
       "   param_alpha                     params  rank_test_score  split0_test_score  \\\n",
       "3      1.47168   {'alpha': 1.47167593681}                1       -1375.363645   \n",
       "14     1.54166   {'alpha': 1.54166210236}                2       -1375.791197   \n",
       "12    0.435558  {'alpha': 0.435558001169}                3       -1375.874522   \n",
       "2      1.94805   {'alpha': 1.94805364999}                4       -1378.926229   \n",
       "18     2.12472   {'alpha': 2.12472055851}                5       -1380.573672   \n",
       "\n",
       "    split0_train_score  split1_test_score  split1_train_score  \\\n",
       "3         -1020.576316       -1078.777783        -1080.560352   \n",
       "14        -1021.562751       -1078.841152        -1080.961630   \n",
       "12        -1004.815998       -1078.455770        -1073.551296   \n",
       "2         -1027.234624       -1079.282461        -1083.246796   \n",
       "18        -1029.677671       -1079.512717        -1084.226930   \n",
       "\n",
       "    split2_test_score  split2_train_score  std_fit_time  std_score_time  \\\n",
       "3        -1290.880968        -1046.473098      1.684181        0.006250   \n",
       "14       -1290.861154        -1046.743987      2.068280        0.018967   \n",
       "12       -1292.746012        -1041.807388      1.761688        0.003172   \n",
       "2        -1290.884382        -1048.269718      1.592447        0.006382   \n",
       "18       -1290.956075        -1048.915056      1.239390        0.007262   \n",
       "\n",
       "    std_test_score  std_train_score  \n",
       "3       124.761220        24.564357  \n",
       "14      124.875459        24.342849  \n",
       "12      125.294573        28.088313  \n",
       "2       125.748040        23.101791  \n",
       "18      126.217320        22.589641  "
      ]
     },
     "execution_count": 8,
     "metadata": {},
     "output_type": "execute_result"
    }
   ],
   "source": [
    "cv_results = pd.DataFrame(regr_pipe.named_steps['regr_cv'].cv_results_)\n",
    "cv_results.sort_values(by='rank_test_score').head()"
   ]
  },
  {
   "cell_type": "code",
   "execution_count": 9,
   "metadata": {},
   "outputs": [
    {
     "data": {
      "image/png": "[encoded data removed]",
      "text/plain": [
       "<matplotlib.figure.Figure at 0x223898829b0>"
      ]
     },
     "metadata": {},
     "output_type": "display_data"
    }
   ],
   "source": [
    "plt.plot(cv_results['param_alpha'], cv_results['mean_test_score'], 'ro', markersize=1)\n",
    "plt.title('CV negative mean squared error')\n",
    "plt.show()"
   ]
  }
 ],
 "metadata": {
  "kernelspec": {
   "display_name": "TimeSeriesForecastingTutorial local",
   "language": "python",
   "name": "timeseriesforecastingtutorial_local"
  },
  "language_info": {
   "codemirror_mode": {
    "name": "ipython",
    "version": 3
   },
   "file_extension": ".py",
   "mimetype": "text/x-python",
   "name": "python",
   "nbconvert_exporter": "python",
   "pygments_lexer": "ipython3",
   "version": "3.5.2"
  }
 },
 "nbformat": 4,
 "nbformat_minor": 2
}

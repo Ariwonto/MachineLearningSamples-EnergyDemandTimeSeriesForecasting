{
 "cells": [
  {
   "cell_type": "markdown",
   "metadata": {},
   "source": [
    "# Gradient boosting machine"
   ]
  },
  {
   "cell_type": "code",
   "execution_count": 1,
   "metadata": {
    "collapsed": true
   },
   "outputs": [],
   "source": [
    "%matplotlib inline\n",
    "import pandas as pd\n",
    "import numpy as np\n",
    "import matplotlib.pyplot as plt\n",
    "from sklearn.pipeline import Pipeline\n",
    "from sklearn.ensemble import GradientBoostingRegressor\n",
    "from sklearn.metrics import mean_squared_error\n",
    "from sklearn.model_selection import TimeSeriesSplit\n",
    "from sklearn.model_selection import RandomizedSearchCV\n",
    "import pickle\n",
    "import os\n",
    "import scipy.stats as st"
   ]
  },
  {
   "cell_type": "code",
   "execution_count": 2,
   "metadata": {
    "collapsed": true
   },
   "outputs": [],
   "source": [
    "model_name = \"gbm\"\n",
    "aml_dir = os.environ['AZUREML_NATIVE_SHARE_DIRECTORY']\n",
    "train = pd.read_csv(aml_dir + 'nyc_demand_train.csv', parse_dates=['timeStamp'])"
   ]
  },
  {
   "cell_type": "markdown",
   "metadata": {},
   "source": [
    "Create model pipeline including:\n",
    "- use randomised search to find optimal hyperparameters\n",
    "- train best model on all training data\n",
    "\n",
    "Note: this model will take about 5 minutes to train."
   ]
  },
  {
   "cell_type": "code",
   "execution_count": 3,
   "metadata": {
    "collapsed": true
   },
   "outputs": [],
   "source": [
    "X = train.drop(['demand', 'timeStamp'], axis=1)"
   ]
  },
  {
   "cell_type": "code",
   "execution_count": 4,
   "metadata": {
    "collapsed": true
   },
   "outputs": [],
   "source": [
    "regr = GradientBoostingRegressor()\n",
    "tscv = TimeSeriesSplit(n_splits=3)"
   ]
  },
  {
   "cell_type": "code",
   "execution_count": 5,
   "metadata": {},
   "outputs": [
    {
     "name": "stdout",
     "output_type": "stream",
     "text": [
      "Fitting 3 folds for each of 50 candidates, totalling 150 fits\n"
     ]
    },
    {
     "name": "stderr",
     "output_type": "stream",
     "text": [
      "[Parallel(n_jobs=-1)]: Done  33 tasks      | elapsed:   48.5s\n",
      "[Parallel(n_jobs=-1)]: Done 150 out of 150 | elapsed:  3.4min finished\n"
     ]
    },
    {
     "data": {
      "text/plain": [
       "Pipeline(memory=None,\n",
       "     steps=[('regr_cv', RandomizedSearchCV(cv=TimeSeriesSplit(max_train_size=None, n_splits=3),\n",
       "          error_score='raise',\n",
       "          estimator=GradientBoostingRegressor(alpha=0.9, criterion='friedman_mse', init=None,\n",
       "             learning_rate=0.1, loss='ls', max_depth=3, max_features=None,\n",
       "         ...it=True,\n",
       "          return_train_score=True, scoring='neg_mean_squared_error',\n",
       "          verbose=2))])"
      ]
     },
     "execution_count": 5,
     "metadata": {},
     "output_type": "execute_result"
    }
   ],
   "source": [
    "param_dist = {'n_estimators': st.randint(3, 100),\n",
    "                'learning_rate': st.uniform(0.01, 0.1),\n",
    "                'max_depth': range(2,31),\n",
    "                'min_samples_leaf': st.randint(1, 100),\n",
    "                'min_samples_split': st.randint(2, 50),\n",
    "                'max_features': range(3,X.shape[1]+1),\n",
    "                'subsample': st.uniform(0.1, 0.9)\n",
    "             }\n",
    "regr_cv = RandomizedSearchCV(estimator=regr,\n",
    "            param_distributions=param_dist,\n",
    "            n_iter=50,\n",
    "            cv=tscv,\n",
    "            scoring='neg_mean_squared_error',\n",
    "            verbose=2,\n",
    "            n_jobs=-1)\n",
    "regr_pipe = Pipeline([('regr_cv', regr_cv)])\n",
    "regr_pipe.fit(X, y=train['demand'])"
   ]
  },
  {
   "cell_type": "markdown",
   "metadata": {},
   "source": [
    "Save model to AML shared directory"
   ]
  },
  {
   "cell_type": "code",
   "execution_count": 6,
   "metadata": {
    "collapsed": true
   },
   "outputs": [],
   "source": [
    "with open(aml_dir + model_name + '.pkl', 'wb') as f:\n",
    "    pickle.dump(regr_pipe, f)"
   ]
  },
  {
   "cell_type": "markdown",
   "metadata": {},
   "source": [
    "### Cross validation results"
   ]
  },
  {
   "cell_type": "code",
   "execution_count": 7,
   "metadata": {},
   "outputs": [
    {
     "data": {
      "text/html": [
       "<div>\n",
       "<style>\n",
       "    .dataframe thead tr:only-child th {\n",
       "        text-align: right;\n",
       "    }\n",
       "\n",
       "    .dataframe thead th {\n",
       "        text-align: left;\n",
       "    }\n",
       "\n",
       "    .dataframe tbody tr th {\n",
       "        vertical-align: top;\n",
       "    }\n",
       "</style>\n",
       "<table border=\"1\" class=\"dataframe\">\n",
       "  <thead>\n",
       "    <tr style=\"text-align: right;\">\n",
       "      <th></th>\n",
       "      <th>mean_fit_time</th>\n",
       "      <th>mean_score_time</th>\n",
       "      <th>mean_test_score</th>\n",
       "      <th>mean_train_score</th>\n",
       "      <th>param_learning_rate</th>\n",
       "      <th>param_max_depth</th>\n",
       "      <th>param_max_features</th>\n",
       "      <th>param_min_samples_leaf</th>\n",
       "      <th>param_min_samples_split</th>\n",
       "      <th>param_n_estimators</th>\n",
       "      <th>...</th>\n",
       "      <th>split0_test_score</th>\n",
       "      <th>split0_train_score</th>\n",
       "      <th>split1_test_score</th>\n",
       "      <th>split1_train_score</th>\n",
       "      <th>split2_test_score</th>\n",
       "      <th>split2_train_score</th>\n",
       "      <th>std_fit_time</th>\n",
       "      <th>std_score_time</th>\n",
       "      <th>std_test_score</th>\n",
       "      <th>std_train_score</th>\n",
       "    </tr>\n",
       "  </thead>\n",
       "  <tbody>\n",
       "    <tr>\n",
       "      <th>8</th>\n",
       "      <td>17.551571</td>\n",
       "      <td>0.080168</td>\n",
       "      <td>-3321.621385</td>\n",
       "      <td>-982.386683</td>\n",
       "      <td>0.0817779</td>\n",
       "      <td>17</td>\n",
       "      <td>9</td>\n",
       "      <td>11</td>\n",
       "      <td>27</td>\n",
       "      <td>53</td>\n",
       "      <td>...</td>\n",
       "      <td>-4822.691439</td>\n",
       "      <td>-1177.051035</td>\n",
       "      <td>-2506.902267</td>\n",
       "      <td>-957.498225</td>\n",
       "      <td>-2635.270449</td>\n",
       "      <td>-812.610789</td>\n",
       "      <td>11.593208</td>\n",
       "      <td>0.015107</td>\n",
       "      <td>1062.709769</td>\n",
       "      <td>149.819335</td>\n",
       "    </tr>\n",
       "    <tr>\n",
       "      <th>21</th>\n",
       "      <td>12.326001</td>\n",
       "      <td>0.094168</td>\n",
       "      <td>-4024.647433</td>\n",
       "      <td>-2426.180801</td>\n",
       "      <td>0.0752828</td>\n",
       "      <td>20</td>\n",
       "      <td>9</td>\n",
       "      <td>51</td>\n",
       "      <td>6</td>\n",
       "      <td>87</td>\n",
       "      <td>...</td>\n",
       "      <td>-6689.734850</td>\n",
       "      <td>-3339.789908</td>\n",
       "      <td>-2857.963883</td>\n",
       "      <td>-2210.081344</td>\n",
       "      <td>-2526.243565</td>\n",
       "      <td>-1728.671152</td>\n",
       "      <td>7.471568</td>\n",
       "      <td>0.021067</td>\n",
       "      <td>1889.361056</td>\n",
       "      <td>675.253110</td>\n",
       "    </tr>\n",
       "    <tr>\n",
       "      <th>30</th>\n",
       "      <td>7.285266</td>\n",
       "      <td>0.090835</td>\n",
       "      <td>-4182.679505</td>\n",
       "      <td>-2347.434780</td>\n",
       "      <td>0.0850228</td>\n",
       "      <td>25</td>\n",
       "      <td>7</td>\n",
       "      <td>15</td>\n",
       "      <td>40</td>\n",
       "      <td>83</td>\n",
       "      <td>...</td>\n",
       "      <td>-6428.663049</td>\n",
       "      <td>-3076.716039</td>\n",
       "      <td>-3066.970635</td>\n",
       "      <td>-2193.719562</td>\n",
       "      <td>-3052.404831</td>\n",
       "      <td>-1771.868740</td>\n",
       "      <td>4.619184</td>\n",
       "      <td>0.005391</td>\n",
       "      <td>1588.161327</td>\n",
       "      <td>543.677536</td>\n",
       "    </tr>\n",
       "    <tr>\n",
       "      <th>33</th>\n",
       "      <td>12.529670</td>\n",
       "      <td>0.054338</td>\n",
       "      <td>-5177.180225</td>\n",
       "      <td>-3842.471151</td>\n",
       "      <td>0.0774501</td>\n",
       "      <td>16</td>\n",
       "      <td>14</td>\n",
       "      <td>58</td>\n",
       "      <td>2</td>\n",
       "      <td>47</td>\n",
       "      <td>...</td>\n",
       "      <td>-8014.074809</td>\n",
       "      <td>-4941.198926</td>\n",
       "      <td>-3704.821110</td>\n",
       "      <td>-3594.551712</td>\n",
       "      <td>-3812.644756</td>\n",
       "      <td>-2991.662815</td>\n",
       "      <td>7.686697</td>\n",
       "      <td>0.010523</td>\n",
       "      <td>2006.470308</td>\n",
       "      <td>814.972719</td>\n",
       "    </tr>\n",
       "    <tr>\n",
       "      <th>15</th>\n",
       "      <td>12.243997</td>\n",
       "      <td>0.066834</td>\n",
       "      <td>-5303.148307</td>\n",
       "      <td>-4755.885933</td>\n",
       "      <td>0.0526293</td>\n",
       "      <td>15</td>\n",
       "      <td>14</td>\n",
       "      <td>88</td>\n",
       "      <td>32</td>\n",
       "      <td>88</td>\n",
       "      <td>...</td>\n",
       "      <td>-9392.287437</td>\n",
       "      <td>-6793.790364</td>\n",
       "      <td>-3392.367549</td>\n",
       "      <td>-4224.884666</td>\n",
       "      <td>-3124.789936</td>\n",
       "      <td>-3248.982768</td>\n",
       "      <td>7.443633</td>\n",
       "      <td>0.011849</td>\n",
       "      <td>2893.520758</td>\n",
       "      <td>1495.077921</td>\n",
       "    </tr>\n",
       "  </tbody>\n",
       "</table>\n",
       "<p>5 rows × 23 columns</p>\n",
       "</div>"
      ],
      "text/plain": [
       "    mean_fit_time  mean_score_time  mean_test_score  mean_train_score  \\\n",
       "8       17.551571         0.080168     -3321.621385       -982.386683   \n",
       "21      12.326001         0.094168     -4024.647433      -2426.180801   \n",
       "30       7.285266         0.090835     -4182.679505      -2347.434780   \n",
       "33      12.529670         0.054338     -5177.180225      -3842.471151   \n",
       "15      12.243997         0.066834     -5303.148307      -4755.885933   \n",
       "\n",
       "   param_learning_rate param_max_depth param_max_features  \\\n",
       "8            0.0817779              17                  9   \n",
       "21           0.0752828              20                  9   \n",
       "30           0.0850228              25                  7   \n",
       "33           0.0774501              16                 14   \n",
       "15           0.0526293              15                 14   \n",
       "\n",
       "   param_min_samples_leaf param_min_samples_split param_n_estimators  \\\n",
       "8                      11                      27                 53   \n",
       "21                     51                       6                 87   \n",
       "30                     15                      40                 83   \n",
       "33                     58                       2                 47   \n",
       "15                     88                      32                 88   \n",
       "\n",
       "         ...        split0_test_score split0_train_score  split1_test_score  \\\n",
       "8        ...             -4822.691439       -1177.051035       -2506.902267   \n",
       "21       ...             -6689.734850       -3339.789908       -2857.963883   \n",
       "30       ...             -6428.663049       -3076.716039       -3066.970635   \n",
       "33       ...             -8014.074809       -4941.198926       -3704.821110   \n",
       "15       ...             -9392.287437       -6793.790364       -3392.367549   \n",
       "\n",
       "    split1_train_score  split2_test_score  split2_train_score  std_fit_time  \\\n",
       "8          -957.498225       -2635.270449         -812.610789     11.593208   \n",
       "21        -2210.081344       -2526.243565        -1728.671152      7.471568   \n",
       "30        -2193.719562       -3052.404831        -1771.868740      4.619184   \n",
       "33        -3594.551712       -3812.644756        -2991.662815      7.686697   \n",
       "15        -4224.884666       -3124.789936        -3248.982768      7.443633   \n",
       "\n",
       "    std_score_time  std_test_score  std_train_score  \n",
       "8         0.015107     1062.709769       149.819335  \n",
       "21        0.021067     1889.361056       675.253110  \n",
       "30        0.005391     1588.161327       543.677536  \n",
       "33        0.010523     2006.470308       814.972719  \n",
       "15        0.011849     2893.520758      1495.077921  \n",
       "\n",
       "[5 rows x 23 columns]"
      ]
     },
     "execution_count": 7,
     "metadata": {},
     "output_type": "execute_result"
    }
   ],
   "source": [
    "cv_results = pd.DataFrame(regr_pipe.named_steps['regr_cv'].cv_results_)\n",
    "cv_results.sort_values(by='rank_test_score', inplace=True)\n",
    "cv_results.head()"
   ]
  }
 ],
 "metadata": {
  "kernelspec": {
   "display_name": "TimeSeriesForecastingTutorial local",
   "language": "python",
   "name": "timeseriesforecastingtutorial_local"
  },
  "language_info": {
   "codemirror_mode": {
    "name": "ipython",
    "version": 3
   },
   "file_extension": ".py",
   "mimetype": "text/x-python",
   "name": "python",
   "nbconvert_exporter": "python",
   "pygments_lexer": "ipython3",
   "version": "3.5.2"
  }
 },
 "nbformat": 4,
 "nbformat_minor": 2
}

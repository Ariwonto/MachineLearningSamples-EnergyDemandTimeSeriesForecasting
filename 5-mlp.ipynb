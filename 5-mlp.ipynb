{
 "cells": [
  {
   "cell_type": "markdown",
   "metadata": {},
   "source": [
    "# Multi-layer Perceptron"
   ]
  },
  {
   "cell_type": "code",
   "execution_count": 70,
   "metadata": {
    "collapsed": true
   },
   "outputs": [],
   "source": [
    "%matplotlib inline\n",
    "import pandas as pd\n",
    "import numpy as np\n",
    "import matplotlib.pyplot as plt\n",
    "from sklearn.pipeline import Pipeline\n",
    "from sklearn.preprocessing import OneHotEncoder\n",
    "from sklearn.neural_network import MLPRegressor\n",
    "from sklearn.metrics import mean_squared_error\n",
    "from sklearn.model_selection import PredefinedSplit\n",
    "from sklearn.model_selection import GridSearchCV\n",
    "import pickle\n",
    "import os\n",
    "import scipy.stats as st"
   ]
  },
  {
   "cell_type": "code",
   "execution_count": 3,
   "metadata": {
    "collapsed": true
   },
   "outputs": [],
   "source": [
    "model_name = \"mlp\"\n",
    "aml_dir = os.environ['AZUREML_NATIVE_SHARE_DIRECTORY']\n",
    "train = pd.read_csv(aml_dir + 'nyc_demand_train.csv', parse_dates=['timeStamp'])\n",
    "X = train.drop(['demand', 'timeStamp'], axis=1)"
   ]
  },
  {
   "cell_type": "markdown",
   "metadata": {},
   "source": [
    "Due to the relatively long training times of neural networks, in this example we use one validation set in place of cross-validation. The validation set will be the final 25% of the training dataset."
   ]
  },
  {
   "cell_type": "code",
   "execution_count": 72,
   "metadata": {},
   "outputs": [],
   "source": [
    "len_train = int(len(X) * 0.75)\n",
    "len_valid = len(X) - len_train\n",
    "test_fold = [-1]*len_train + [0]*len_valid\n",
    "ps = PredefinedSplit(test_fold)"
   ]
  },
  {
   "cell_type": "code",
   "execution_count": 74,
   "metadata": {},
   "outputs": [],
   "source": [
    "regr = MLPRegressor(solver='lbfgs', verbose=True)"
   ]
  },
  {
   "cell_type": "code",
   "execution_count": 75,
   "metadata": {
    "collapsed": true
   },
   "outputs": [],
   "source": [
    "hidden_layer_size = [(5,), (10,), (15,), (20,), (25,), (30,), (35,), (40,), (10,10), (20,20), (30,30), (40,40), (10,10,10), (20,20,20), (30,30,30), (40,40,40)]"
   ]
  },
  {
   "cell_type": "code",
   "execution_count": 76,
   "metadata": {},
   "outputs": [],
   "source": [
    "param_grid = {'hidden_layer_sizes': hidden_layer_size,\n",
    "             'alpha': [0.0001, 0.001, 0.01, 0.1]}\n",
    "regr_cv = GridSearchCV(estimator=regr,\n",
    "            param_grid=param_grid,\n",
    "            cv=ps,\n",
    "            scoring='neg_mean_squared_error',\n",
    "            verbose=2,\n",
    "            n_jobs=-1)"
   ]
  },
  {
   "cell_type": "code",
   "execution_count": 81,
   "metadata": {},
   "outputs": [
    {
     "name": "stdout",
     "output_type": "stream",
     "text": [
      "Fitting 1 folds for each of 64 candidates, totalling 64 fits\n"
     ]
    },
    {
     "name": "stderr",
     "output_type": "stream",
     "text": [
      "[Parallel(n_jobs=-1)]: Done  33 tasks      | elapsed:  1.8min\n",
      "[Parallel(n_jobs=-1)]: Done  64 out of  64 | elapsed:  3.9min finished\n"
     ]
    },
    {
     "data": {
      "text/plain": [
       "Pipeline(memory=None,\n",
       "     steps=[('regr_cv', GridSearchCV(cv=PredefinedSplit(test_fold=array([-1, -1, ...,  0,  0])),\n",
       "       error_score='raise',\n",
       "       estimator=MLPRegressor(activation='relu', alpha=0.0001, batch_size='auto', beta_1=0.9,\n",
       "       beta_2=0.999, early_stopping=False, epsilon=1e-08,\n",
       "       hidden_layer_sizes=(1...*n_jobs', refit=True, return_train_score=True,\n",
       "       scoring='neg_mean_squared_error', verbose=2))])"
      ]
     },
     "execution_count": 81,
     "metadata": {},
     "output_type": "execute_result"
    }
   ],
   "source": [
    "regr_pipe = Pipeline([('regr_cv', regr_cv)])\n",
    "regr_pipe.fit(X, y=train['demand'])"
   ]
  },
  {
   "cell_type": "markdown",
   "metadata": {},
   "source": [
    "Save model to AML shared directory"
   ]
  },
  {
   "cell_type": "code",
   "execution_count": 83,
   "metadata": {
    "collapsed": true
   },
   "outputs": [],
   "source": [
    "with open(aml_dir + model_name + '.pkl', 'wb') as f:\n",
    "    pickle.dump(regr_pipe, f)"
   ]
  },
  {
   "cell_type": "markdown",
   "metadata": {},
   "source": [
    "### Cross validation results"
   ]
  },
  {
   "cell_type": "code",
   "execution_count": 82,
   "metadata": {},
   "outputs": [
    {
     "data": {
      "text/html": [
       "<div>\n",
       "<style>\n",
       "    .dataframe thead tr:only-child th {\n",
       "        text-align: right;\n",
       "    }\n",
       "\n",
       "    .dataframe thead th {\n",
       "        text-align: left;\n",
       "    }\n",
       "\n",
       "    .dataframe tbody tr th {\n",
       "        vertical-align: top;\n",
       "    }\n",
       "</style>\n",
       "<table border=\"1\" class=\"dataframe\">\n",
       "  <thead>\n",
       "    <tr style=\"text-align: right;\">\n",
       "      <th></th>\n",
       "      <th>mean_fit_time</th>\n",
       "      <th>mean_score_time</th>\n",
       "      <th>mean_test_score</th>\n",
       "      <th>mean_train_score</th>\n",
       "      <th>param_alpha</th>\n",
       "      <th>param_hidden_layer_sizes</th>\n",
       "      <th>params</th>\n",
       "      <th>rank_test_score</th>\n",
       "      <th>split0_test_score</th>\n",
       "      <th>split0_train_score</th>\n",
       "      <th>std_fit_time</th>\n",
       "      <th>std_score_time</th>\n",
       "      <th>std_test_score</th>\n",
       "      <th>std_train_score</th>\n",
       "    </tr>\n",
       "  </thead>\n",
       "  <tbody>\n",
       "    <tr>\n",
       "      <th>63</th>\n",
       "      <td>25.703727</td>\n",
       "      <td>0.014510</td>\n",
       "      <td>-6545.191157</td>\n",
       "      <td>-7504.598997</td>\n",
       "      <td>0.1</td>\n",
       "      <td>(40, 40, 40)</td>\n",
       "      <td>{'hidden_layer_sizes': (40, 40, 40), 'alpha': ...</td>\n",
       "      <td>1</td>\n",
       "      <td>-6545.191157</td>\n",
       "      <td>-7504.598997</td>\n",
       "      <td>0.0</td>\n",
       "      <td>0.0</td>\n",
       "      <td>0.0</td>\n",
       "      <td>0.0</td>\n",
       "    </tr>\n",
       "    <tr>\n",
       "      <th>58</th>\n",
       "      <td>19.732062</td>\n",
       "      <td>0.030499</td>\n",
       "      <td>-6909.698549</td>\n",
       "      <td>-8102.512347</td>\n",
       "      <td>0.1</td>\n",
       "      <td>(30, 30)</td>\n",
       "      <td>{'hidden_layer_sizes': (30, 30), 'alpha': 0.1}</td>\n",
       "      <td>2</td>\n",
       "      <td>-6909.698549</td>\n",
       "      <td>-8102.512347</td>\n",
       "      <td>0.0</td>\n",
       "      <td>0.0</td>\n",
       "      <td>0.0</td>\n",
       "      <td>0.0</td>\n",
       "    </tr>\n",
       "    <tr>\n",
       "      <th>27</th>\n",
       "      <td>22.725273</td>\n",
       "      <td>0.016504</td>\n",
       "      <td>-6936.204570</td>\n",
       "      <td>-8098.076132</td>\n",
       "      <td>0.001</td>\n",
       "      <td>(40, 40)</td>\n",
       "      <td>{'hidden_layer_sizes': (40, 40), 'alpha': 0.001}</td>\n",
       "      <td>3</td>\n",
       "      <td>-6936.204570</td>\n",
       "      <td>-8098.076132</td>\n",
       "      <td>0.0</td>\n",
       "      <td>0.0</td>\n",
       "      <td>0.0</td>\n",
       "      <td>0.0</td>\n",
       "    </tr>\n",
       "    <tr>\n",
       "      <th>60</th>\n",
       "      <td>13.073128</td>\n",
       "      <td>0.008500</td>\n",
       "      <td>-6937.873643</td>\n",
       "      <td>-8074.213731</td>\n",
       "      <td>0.1</td>\n",
       "      <td>(10, 10, 10)</td>\n",
       "      <td>{'hidden_layer_sizes': (10, 10, 10), 'alpha': ...</td>\n",
       "      <td>4</td>\n",
       "      <td>-6937.873643</td>\n",
       "      <td>-8074.213731</td>\n",
       "      <td>0.0</td>\n",
       "      <td>0.0</td>\n",
       "      <td>0.0</td>\n",
       "      <td>0.0</td>\n",
       "    </tr>\n",
       "    <tr>\n",
       "      <th>4</th>\n",
       "      <td>8.230503</td>\n",
       "      <td>0.007001</td>\n",
       "      <td>-6939.629724</td>\n",
       "      <td>-7879.820117</td>\n",
       "      <td>0.0001</td>\n",
       "      <td>(25,)</td>\n",
       "      <td>{'hidden_layer_sizes': (25,), 'alpha': 0.0001}</td>\n",
       "      <td>5</td>\n",
       "      <td>-6939.629724</td>\n",
       "      <td>-7879.820117</td>\n",
       "      <td>0.0</td>\n",
       "      <td>0.0</td>\n",
       "      <td>0.0</td>\n",
       "      <td>0.0</td>\n",
       "    </tr>\n",
       "  </tbody>\n",
       "</table>\n",
       "</div>"
      ],
      "text/plain": [
       "    mean_fit_time  mean_score_time  mean_test_score  mean_train_score  \\\n",
       "63      25.703727         0.014510     -6545.191157      -7504.598997   \n",
       "58      19.732062         0.030499     -6909.698549      -8102.512347   \n",
       "27      22.725273         0.016504     -6936.204570      -8098.076132   \n",
       "60      13.073128         0.008500     -6937.873643      -8074.213731   \n",
       "4        8.230503         0.007001     -6939.629724      -7879.820117   \n",
       "\n",
       "   param_alpha param_hidden_layer_sizes  \\\n",
       "63         0.1             (40, 40, 40)   \n",
       "58         0.1                 (30, 30)   \n",
       "27       0.001                 (40, 40)   \n",
       "60         0.1             (10, 10, 10)   \n",
       "4       0.0001                    (25,)   \n",
       "\n",
       "                                               params  rank_test_score  \\\n",
       "63  {'hidden_layer_sizes': (40, 40, 40), 'alpha': ...                1   \n",
       "58     {'hidden_layer_sizes': (30, 30), 'alpha': 0.1}                2   \n",
       "27   {'hidden_layer_sizes': (40, 40), 'alpha': 0.001}                3   \n",
       "60  {'hidden_layer_sizes': (10, 10, 10), 'alpha': ...                4   \n",
       "4      {'hidden_layer_sizes': (25,), 'alpha': 0.0001}                5   \n",
       "\n",
       "    split0_test_score  split0_train_score  std_fit_time  std_score_time  \\\n",
       "63       -6545.191157        -7504.598997           0.0             0.0   \n",
       "58       -6909.698549        -8102.512347           0.0             0.0   \n",
       "27       -6936.204570        -8098.076132           0.0             0.0   \n",
       "60       -6937.873643        -8074.213731           0.0             0.0   \n",
       "4        -6939.629724        -7879.820117           0.0             0.0   \n",
       "\n",
       "    std_test_score  std_train_score  \n",
       "63             0.0              0.0  \n",
       "58             0.0              0.0  \n",
       "27             0.0              0.0  \n",
       "60             0.0              0.0  \n",
       "4              0.0              0.0  "
      ]
     },
     "execution_count": 82,
     "metadata": {},
     "output_type": "execute_result"
    }
   ],
   "source": [
    "cv_results = pd.DataFrame(regr_pipe.named_steps['regr_cv'].cv_results_)\n",
    "cv_results.sort_values(by='rank_test_score', inplace=True)\n",
    "cv_results.head()"
   ]
  },
  {
   "cell_type": "code",
   "execution_count": null,
   "metadata": {
    "collapsed": true
   },
   "outputs": [],
   "source": []
  }
 ],
 "metadata": {
  "kernelspec": {
   "display_name": "TimeSeriesForecastingTutorial local",
   "language": "python",
   "name": "timeseriesforecastingtutorial_local"
  },
  "language_info": {
   "codemirror_mode": {
    "name": "ipython",
    "version": 3
   },
   "file_extension": ".py",
   "mimetype": "text/x-python",
   "name": "python",
   "nbconvert_exporter": "python",
   "pygments_lexer": "ipython3",
   "version": "3.5.2"
  }
 },
 "nbformat": 4,
 "nbformat_minor": 2
}

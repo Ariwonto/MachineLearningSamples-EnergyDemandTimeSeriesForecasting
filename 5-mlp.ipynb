{
 "cells": [
  {
   "cell_type": "markdown",
   "metadata": {},
   "source": [
    "# Multi-layer perceptron\n",
    "**Important**: Change the kernel to *PROJECT_NAME local*. You can do this from the *Kernel* menu under *Change kernel*."
   ]
  },
  {
   "cell_type": "code",
   "execution_count": null,
   "metadata": {},
   "outputs": [],
   "source": [
    "%autosave 0\n",
    "%matplotlib inline\n",
    "import pandas as pd\n",
    "import numpy as np\n",
    "import matplotlib.pyplot as plt\n",
    "from sklearn.pipeline import Pipeline\n",
    "from sklearn.preprocessing import OneHotEncoder\n",
    "from sklearn.neural_network import MLPRegressor\n",
    "from sklearn.metrics import mean_squared_error\n",
    "from sklearn.model_selection import PredefinedSplit\n",
    "from sklearn.model_selection import GridSearchCV\n",
    "import pickle\n",
    "import os"
   ]
  },
  {
   "cell_type": "code",
   "execution_count": 2,
   "metadata": {},
   "outputs": [],
   "source": [
    "model_name = \"mlp\"\n",
    "aml_dir = os.environ['AZUREML_NATIVE_SHARE_DIRECTORY']\n",
    "train = pd.read_csv(os.path.join(aml_dir, 'nyc_demand_train.csv'), parse_dates=['timeStamp'])\n",
    "X = train.drop(['demand', 'timeStamp'], axis=1)"
   ]
  },
  {
   "cell_type": "markdown",
   "metadata": {},
   "source": [
    "Due to the relatively long training times of neural networks, in this example we use one validation set in place of cross-validation. The validation set will be the final 25% of the training dataset. Training takes about 3 minutes."
   ]
  },
  {
   "cell_type": "code",
   "execution_count": 3,
   "metadata": {},
   "outputs": [],
   "source": [
    "len_train = int(len(X) * 0.75)\n",
    "len_valid = len(X) - len_train\n",
    "test_fold = [-1]*len_train + [0]*len_valid\n",
    "ps = PredefinedSplit(test_fold)"
   ]
  },
  {
   "cell_type": "code",
   "execution_count": 4,
   "metadata": {},
   "outputs": [],
   "source": [
    "regr = MLPRegressor(solver='lbfgs', verbose=True)"
   ]
  },
  {
   "cell_type": "markdown",
   "metadata": {},
   "source": [
    "We first specify a list of network structures to try. Each tuple in this list specifies the number of hidden layers and the number of units in each. For example, (5,0) specifies a network with one hidden layer containing 5 units while (10,10) creates a network with 2 hidden layers, each with 10 units. We then perform grid search to test the various network structures and regularization parameters. "
   ]
  },
  {
   "cell_type": "code",
   "execution_count": 5,
   "metadata": {},
   "outputs": [],
   "source": [
    "hidden_layer_size = [(5,), (10,), (15,), (20,), (25,), (30,), (35,), (40,), (10,10), (20,20), (30,30), (40,40)]"
   ]
  },
  {
   "cell_type": "code",
   "execution_count": 6,
   "metadata": {},
   "outputs": [],
   "source": [
    "param_grid = {'hidden_layer_sizes': hidden_layer_size,\n",
    "             'alpha': [0.01, 0.1, 1.0, 10.0]}\n",
    "regr_cv = GridSearchCV(estimator=regr,\n",
    "            param_grid=param_grid,\n",
    "            cv=ps,\n",
    "            scoring='neg_mean_squared_error',\n",
    "            verbose=2,\n",
    "            n_jobs=-1)"
   ]
  },
  {
   "cell_type": "code",
   "execution_count": 7,
   "metadata": {},
   "outputs": [
    {
     "name": "stdout",
     "output_type": "stream",
     "text": [
      "Fitting 1 folds for each of 48 candidates, totalling 48 fits\n"
     ]
    },
    {
     "name": "stderr",
     "output_type": "stream",
     "text": [
      "[Parallel(n_jobs=-1)]: Done  33 tasks      | elapsed:  1.4min\n",
      "[Parallel(n_jobs=-1)]: Done  48 out of  48 | elapsed:  2.0min finished\n"
     ]
    },
    {
     "data": {
      "text/plain": [
       "Pipeline(memory=None,\n",
       "     steps=[('regr_cv', GridSearchCV(cv=PredefinedSplit(test_fold=array([-1, -1, ...,  0,  0])),\n",
       "       error_score='raise',\n",
       "       estimator=MLPRegressor(activation='relu', alpha=0.0001, batch_size='auto', beta_1=0.9,\n",
       "       beta_2=0.999, early_stopping=False, epsilon=1e-08,\n",
       "       hidden_layer_sizes=(1...*n_jobs', refit=True, return_train_score=True,\n",
       "       scoring='neg_mean_squared_error', verbose=2))])"
      ]
     },
     "execution_count": 7,
     "metadata": {},
     "output_type": "execute_result"
    }
   ],
   "source": [
    "regr_pipe = Pipeline([('regr_cv', regr_cv)])\n",
    "regr_pipe.fit(X, y=train['demand'])"
   ]
  },
  {
   "cell_type": "code",
   "execution_count": 8,
   "metadata": {},
   "outputs": [],
   "source": [
    "with open(os.path.join(aml_dir, model_name + '.pkl'), 'wb') as f:\n",
    "    pickle.dump(regr_pipe, f)"
   ]
  },
  {
   "cell_type": "markdown",
   "metadata": {},
   "source": [
    "Cross validation results"
   ]
  },
  {
   "cell_type": "code",
   "execution_count": 9,
   "metadata": {},
   "outputs": [
    {
     "data": {
      "text/html": [
       "<div>\n",
       "<style>\n",
       "    .dataframe thead tr:only-child th {\n",
       "        text-align: right;\n",
       "    }\n",
       "\n",
       "    .dataframe thead th {\n",
       "        text-align: left;\n",
       "    }\n",
       "\n",
       "    .dataframe tbody tr th {\n",
       "        vertical-align: top;\n",
       "    }\n",
       "</style>\n",
       "<table border=\"1\" class=\"dataframe\">\n",
       "  <thead>\n",
       "    <tr style=\"text-align: right;\">\n",
       "      <th></th>\n",
       "      <th>mean_fit_time</th>\n",
       "      <th>mean_score_time</th>\n",
       "      <th>mean_test_score</th>\n",
       "      <th>mean_train_score</th>\n",
       "      <th>param_alpha</th>\n",
       "      <th>param_hidden_layer_sizes</th>\n",
       "      <th>params</th>\n",
       "      <th>rank_test_score</th>\n",
       "      <th>split0_test_score</th>\n",
       "      <th>split0_train_score</th>\n",
       "      <th>std_fit_time</th>\n",
       "      <th>std_score_time</th>\n",
       "      <th>std_test_score</th>\n",
       "      <th>std_train_score</th>\n",
       "    </tr>\n",
       "  </thead>\n",
       "  <tbody>\n",
       "    <tr>\n",
       "      <th>46</th>\n",
       "      <td>13.107694</td>\n",
       "      <td>0.000000</td>\n",
       "      <td>-6554.520312</td>\n",
       "      <td>-7621.813617</td>\n",
       "      <td>10</td>\n",
       "      <td>(30, 30)</td>\n",
       "      <td>{'alpha': 10.0, 'hidden_layer_sizes': (30, 30)}</td>\n",
       "      <td>1</td>\n",
       "      <td>-6554.520312</td>\n",
       "      <td>-7621.813617</td>\n",
       "      <td>0.0</td>\n",
       "      <td>0.0</td>\n",
       "      <td>0.0</td>\n",
       "      <td>0.0</td>\n",
       "    </tr>\n",
       "    <tr>\n",
       "      <th>40</th>\n",
       "      <td>7.273600</td>\n",
       "      <td>0.015629</td>\n",
       "      <td>-6661.949055</td>\n",
       "      <td>-7696.342914</td>\n",
       "      <td>10</td>\n",
       "      <td>(25,)</td>\n",
       "      <td>{'alpha': 10.0, 'hidden_layer_sizes': (25,)}</td>\n",
       "      <td>2</td>\n",
       "      <td>-6661.949055</td>\n",
       "      <td>-7696.342914</td>\n",
       "      <td>0.0</td>\n",
       "      <td>0.0</td>\n",
       "      <td>0.0</td>\n",
       "      <td>0.0</td>\n",
       "    </tr>\n",
       "    <tr>\n",
       "      <th>42</th>\n",
       "      <td>8.758588</td>\n",
       "      <td>0.015627</td>\n",
       "      <td>-6710.820795</td>\n",
       "      <td>-7844.005497</td>\n",
       "      <td>10</td>\n",
       "      <td>(35,)</td>\n",
       "      <td>{'alpha': 10.0, 'hidden_layer_sizes': (35,)}</td>\n",
       "      <td>3</td>\n",
       "      <td>-6710.820795</td>\n",
       "      <td>-7844.005497</td>\n",
       "      <td>0.0</td>\n",
       "      <td>0.0</td>\n",
       "      <td>0.0</td>\n",
       "      <td>0.0</td>\n",
       "    </tr>\n",
       "    <tr>\n",
       "      <th>14</th>\n",
       "      <td>6.755545</td>\n",
       "      <td>0.015626</td>\n",
       "      <td>-6908.940873</td>\n",
       "      <td>-8131.942532</td>\n",
       "      <td>0.1</td>\n",
       "      <td>(15,)</td>\n",
       "      <td>{'alpha': 0.1, 'hidden_layer_sizes': (15,)}</td>\n",
       "      <td>4</td>\n",
       "      <td>-6908.940873</td>\n",
       "      <td>-8131.942532</td>\n",
       "      <td>0.0</td>\n",
       "      <td>0.0</td>\n",
       "      <td>0.0</td>\n",
       "      <td>0.0</td>\n",
       "    </tr>\n",
       "    <tr>\n",
       "      <th>4</th>\n",
       "      <td>6.664248</td>\n",
       "      <td>0.015625</td>\n",
       "      <td>-7045.279829</td>\n",
       "      <td>-8149.529520</td>\n",
       "      <td>0.01</td>\n",
       "      <td>(25,)</td>\n",
       "      <td>{'alpha': 0.01, 'hidden_layer_sizes': (25,)}</td>\n",
       "      <td>5</td>\n",
       "      <td>-7045.279829</td>\n",
       "      <td>-8149.529520</td>\n",
       "      <td>0.0</td>\n",
       "      <td>0.0</td>\n",
       "      <td>0.0</td>\n",
       "      <td>0.0</td>\n",
       "    </tr>\n",
       "  </tbody>\n",
       "</table>\n",
       "</div>"
      ],
      "text/plain": [
       "    mean_fit_time  mean_score_time  mean_test_score  mean_train_score  \\\n",
       "46      13.107694         0.000000     -6554.520312      -7621.813617   \n",
       "40       7.273600         0.015629     -6661.949055      -7696.342914   \n",
       "42       8.758588         0.015627     -6710.820795      -7844.005497   \n",
       "14       6.755545         0.015626     -6908.940873      -8131.942532   \n",
       "4        6.664248         0.015625     -7045.279829      -8149.529520   \n",
       "\n",
       "   param_alpha param_hidden_layer_sizes  \\\n",
       "46          10                 (30, 30)   \n",
       "40          10                    (25,)   \n",
       "42          10                    (35,)   \n",
       "14         0.1                    (15,)   \n",
       "4         0.01                    (25,)   \n",
       "\n",
       "                                             params  rank_test_score  \\\n",
       "46  {'alpha': 10.0, 'hidden_layer_sizes': (30, 30)}                1   \n",
       "40     {'alpha': 10.0, 'hidden_layer_sizes': (25,)}                2   \n",
       "42     {'alpha': 10.0, 'hidden_layer_sizes': (35,)}                3   \n",
       "14      {'alpha': 0.1, 'hidden_layer_sizes': (15,)}                4   \n",
       "4      {'alpha': 0.01, 'hidden_layer_sizes': (25,)}                5   \n",
       "\n",
       "    split0_test_score  split0_train_score  std_fit_time  std_score_time  \\\n",
       "46       -6554.520312        -7621.813617           0.0             0.0   \n",
       "40       -6661.949055        -7696.342914           0.0             0.0   \n",
       "42       -6710.820795        -7844.005497           0.0             0.0   \n",
       "14       -6908.940873        -8131.942532           0.0             0.0   \n",
       "4        -7045.279829        -8149.529520           0.0             0.0   \n",
       "\n",
       "    std_test_score  std_train_score  \n",
       "46             0.0              0.0  \n",
       "40             0.0              0.0  \n",
       "42             0.0              0.0  \n",
       "14             0.0              0.0  \n",
       "4              0.0              0.0  "
      ]
     },
     "execution_count": 9,
     "metadata": {},
     "output_type": "execute_result"
    }
   ],
   "source": [
    "cv_results = pd.DataFrame(regr_pipe.named_steps['regr_cv'].cv_results_)\n",
    "cv_results.sort_values(by='rank_test_score', inplace=True)\n",
    "cv_results.head()"
   ]
  }
 ],
 "metadata": {
  "kernelspec": {
   "display_name": "TimeSeriesForecastingTutorial local",
   "language": "python",
   "name": "timeseriesforecastingtutorial_local"
  },
  "language_info": {
   "codemirror_mode": {
    "name": "ipython",
    "version": 3
   },
   "file_extension": ".py",
   "mimetype": "text/x-python",
   "name": "python",
   "nbconvert_exporter": "python",
   "pygments_lexer": "ipython3",
   "version": "3.5.2"
  }
 },
 "nbformat": 4,
 "nbformat_minor": 2
}
